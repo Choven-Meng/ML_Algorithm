{
 "cells": [
  {
   "cell_type": "markdown",
   "metadata": {},
   "source": [
    "##  基于单层决策树构建弱分类器"
   ]
  },
  {
   "cell_type": "code",
   "execution_count": 1,
   "metadata": {},
   "outputs": [],
   "source": [
    "import numpy as np"
   ]
  },
  {
   "cell_type": "code",
   "execution_count": 2,
   "metadata": {},
   "outputs": [],
   "source": [
    "def loadSimpData():\n",
    "    datMat = np.mat([[ 1. ,  2.1],\n",
    "        [ 2. ,  1.1],\n",
    "        [ 1.3,  1. ],\n",
    "        [ 1. ,  1. ],\n",
    "        [ 2. ,  1. ]])\n",
    "    classLabels = [1.0, 1.0, -1.0, -1.0, 1.0]\n",
    "    return datMat,classLabels"
   ]
  },
  {
   "cell_type": "code",
   "execution_count": 8,
   "metadata": {},
   "outputs": [],
   "source": [
    "datMat, classLabels = loadSimpData()"
   ]
  },
  {
   "cell_type": "markdown",
   "metadata": {},
   "source": [
    "#### 单层决策树生成函数"
   ]
  },
  {
   "cell_type": "code",
   "execution_count": 3,
   "metadata": {},
   "outputs": [],
   "source": [
    "# 通过阈值比较对数据进行分类\n",
    "# 分类器的阈值过滤函数，即设定某一阈值，凡是超过该阈值的结果被归为一类，小于阈值的结果都被分为另外一类\n",
    "def stumpClassify(dataMatrix,dimen,threshVal,threshIneq):#just classify the data\n",
    "    retArray = np.ones((np.shape(dataMatrix)[0],1))\n",
    "    if threshIneq == 'lt':\n",
    "        # 数组过滤\n",
    "        retArray[dataMatrix[:,dimen] <= threshVal] = -1.0\n",
    "    else:\n",
    "        retArray[dataMatrix[:,dimen] > threshVal] = -1.0\n",
    "    return retArray"
   ]
  },
  {
   "cell_type": "markdown",
   "metadata": {},
   "source": [
    "找到最低错误率的单层决策树伪代码：\n",
    "```\n",
    "将最小错误率minError设为正无穷大\n",
    "对数据集中的每一个特征（第一层循环）：\n",
    "    对每个步长（第二层循环）：\n",
    "        对每个不等号（第三层循环）：\n",
    "            建立一棵单层决策树并利用加权数据集对它进行测试\n",
    "            如果错误率低于minError，则将当前单层决策树设为最佳单层决策树\n",
    "返回最佳单层决策树\n",
    "```"
   ]
  },
  {
   "cell_type": "code",
   "execution_count": 4,
   "metadata": {},
   "outputs": [],
   "source": [
    "# 遍历所有取值，基于权重向量D找到数据集上最佳的单层决策树\n",
    "def buildStump(dataArr,classLabels,D):\n",
    "    dataMatrix = np.mat(dataArr)\n",
    "    labelMat = np.mat(classLabels).T\n",
    "    m,n = np.shape(dataMatrix)\n",
    "    # 步长或区间总数\n",
    "    numSteps = 10.0   # 在特征的所有可能取值上进行遍历\n",
    "    # 存储给定权重向量D时所得到的最佳单层决策树的相关信息（最优决策树信息）\n",
    "    bestStump = {}\n",
    "    # 最优单层决策树预测结果\n",
    "    bestClasEst = np.mat(np.zeros((m,1)))\n",
    "    # 将最小错误率初始化为正无穷大\n",
    "    minError = np.inf \n",
    "    # 遍历每一列的特征值\n",
    "    for i in range(n):#loop over all dimensions\n",
    "        rangeMin = dataMatrix[:,i].min()\n",
    "        rangeMax = dataMatrix[:,i].max()\n",
    "        stepSize = (rangeMax-rangeMin)/numSteps\n",
    "        # 遍历各个步长区间\n",
    "        for j in range(-1,int(numSteps)+1):#loop over all range in current dimension\n",
    "            # 两种阈值过滤模式\n",
    "            for inequal in ['lt', 'gt']: #go over less than and greater than\n",
    "                # 计算阈值\n",
    "                threshVal = (rangeMin + float(j) * stepSize)\n",
    "                #选定阈值后，调用阈值过滤函数分类预测\n",
    "                predictedVals = stumpClassify(dataMatrix,i,threshVal,inequal)#call stump classify with i, j, lessThan\n",
    "                # 初始化错误向量\n",
    "                errArr = np.mat(np.ones((m,1)))\n",
    "                # 将错误向量中分类正确项置0\n",
    "                errArr[predictedVals == labelMat] = 0\n",
    "                # 计算加权错误率\n",
    "                weightedError = D.T*errArr  #calc total error multiplied by D\n",
    "                #print (\"split: dim %d, thresh %.2f, thresh ineqal: %s, the weighted error is %.3f\" % (i, threshVal, inequal, weightedError))\n",
    "                if weightedError < minError:\n",
    "                    minError = weightedError\n",
    "                    bestClasEst = predictedVals.copy()\n",
    "                    bestStump['dim'] = i\n",
    "                    bestStump['thresh'] = threshVal\n",
    "                    bestStump['ineq'] = inequal\n",
    "    # 返回最佳单层决策树相关信息的字典，最小错误率，决策树预测输出结果(分类器分类)\n",
    "    return bestStump,minError,bestClasEst"
   ]
  },
  {
   "cell_type": "code",
   "execution_count": 6,
   "metadata": {},
   "outputs": [
    {
     "name": "stdout",
     "output_type": "stream",
     "text": [
      "split: dim 0, thresh 0.90, thresh ineqal: lt, the weighted error is 0.400\n",
      "split: dim 0, thresh 0.90, thresh ineqal: gt, the weighted error is 0.600\n",
      "split: dim 0, thresh 1.00, thresh ineqal: lt, the weighted error is 0.400\n",
      "split: dim 0, thresh 1.00, thresh ineqal: gt, the weighted error is 0.600\n",
      "split: dim 0, thresh 1.10, thresh ineqal: lt, the weighted error is 0.400\n",
      "split: dim 0, thresh 1.10, thresh ineqal: gt, the weighted error is 0.600\n",
      "split: dim 0, thresh 1.20, thresh ineqal: lt, the weighted error is 0.400\n",
      "split: dim 0, thresh 1.20, thresh ineqal: gt, the weighted error is 0.600\n",
      "split: dim 0, thresh 1.30, thresh ineqal: lt, the weighted error is 0.200\n",
      "split: dim 0, thresh 1.30, thresh ineqal: gt, the weighted error is 0.800\n",
      "split: dim 0, thresh 1.40, thresh ineqal: lt, the weighted error is 0.200\n",
      "split: dim 0, thresh 1.40, thresh ineqal: gt, the weighted error is 0.800\n",
      "split: dim 0, thresh 1.50, thresh ineqal: lt, the weighted error is 0.200\n",
      "split: dim 0, thresh 1.50, thresh ineqal: gt, the weighted error is 0.800\n",
      "split: dim 0, thresh 1.60, thresh ineqal: lt, the weighted error is 0.200\n",
      "split: dim 0, thresh 1.60, thresh ineqal: gt, the weighted error is 0.800\n",
      "split: dim 0, thresh 1.70, thresh ineqal: lt, the weighted error is 0.200\n",
      "split: dim 0, thresh 1.70, thresh ineqal: gt, the weighted error is 0.800\n",
      "split: dim 0, thresh 1.80, thresh ineqal: lt, the weighted error is 0.200\n",
      "split: dim 0, thresh 1.80, thresh ineqal: gt, the weighted error is 0.800\n",
      "split: dim 0, thresh 1.90, thresh ineqal: lt, the weighted error is 0.200\n",
      "split: dim 0, thresh 1.90, thresh ineqal: gt, the weighted error is 0.800\n",
      "split: dim 0, thresh 2.00, thresh ineqal: lt, the weighted error is 0.600\n",
      "split: dim 0, thresh 2.00, thresh ineqal: gt, the weighted error is 0.400\n",
      "split: dim 1, thresh 0.89, thresh ineqal: lt, the weighted error is 0.400\n",
      "split: dim 1, thresh 0.89, thresh ineqal: gt, the weighted error is 0.600\n",
      "split: dim 1, thresh 1.00, thresh ineqal: lt, the weighted error is 0.200\n",
      "split: dim 1, thresh 1.00, thresh ineqal: gt, the weighted error is 0.800\n",
      "split: dim 1, thresh 1.11, thresh ineqal: lt, the weighted error is 0.400\n",
      "split: dim 1, thresh 1.11, thresh ineqal: gt, the weighted error is 0.600\n",
      "split: dim 1, thresh 1.22, thresh ineqal: lt, the weighted error is 0.400\n",
      "split: dim 1, thresh 1.22, thresh ineqal: gt, the weighted error is 0.600\n",
      "split: dim 1, thresh 1.33, thresh ineqal: lt, the weighted error is 0.400\n",
      "split: dim 1, thresh 1.33, thresh ineqal: gt, the weighted error is 0.600\n",
      "split: dim 1, thresh 1.44, thresh ineqal: lt, the weighted error is 0.400\n",
      "split: dim 1, thresh 1.44, thresh ineqal: gt, the weighted error is 0.600\n",
      "split: dim 1, thresh 1.55, thresh ineqal: lt, the weighted error is 0.400\n",
      "split: dim 1, thresh 1.55, thresh ineqal: gt, the weighted error is 0.600\n",
      "split: dim 1, thresh 1.66, thresh ineqal: lt, the weighted error is 0.400\n",
      "split: dim 1, thresh 1.66, thresh ineqal: gt, the weighted error is 0.600\n",
      "split: dim 1, thresh 1.77, thresh ineqal: lt, the weighted error is 0.400\n",
      "split: dim 1, thresh 1.77, thresh ineqal: gt, the weighted error is 0.600\n",
      "split: dim 1, thresh 1.88, thresh ineqal: lt, the weighted error is 0.400\n",
      "split: dim 1, thresh 1.88, thresh ineqal: gt, the weighted error is 0.600\n",
      "split: dim 1, thresh 1.99, thresh ineqal: lt, the weighted error is 0.400\n",
      "split: dim 1, thresh 1.99, thresh ineqal: gt, the weighted error is 0.600\n",
      "split: dim 1, thresh 2.10, thresh ineqal: lt, the weighted error is 0.600\n",
      "split: dim 1, thresh 2.10, thresh ineqal: gt, the weighted error is 0.400\n"
     ]
    },
    {
     "data": {
      "text/plain": [
       "({'dim': 0, 'thresh': 1.3, 'ineq': 'lt'}, matrix([[0.2]]), array([[-1.],\n",
       "        [ 1.],\n",
       "        [-1.],\n",
       "        [-1.],\n",
       "        [ 1.]]))"
      ]
     },
     "execution_count": 6,
     "metadata": {},
     "output_type": "execute_result"
    }
   ],
   "source": [
    "# test\n",
    "D = np.mat(np.ones((len(datMat),1))/len(datMat))\n",
    "buildStump(datMat,classLabels,D)"
   ]
  },
  {
   "cell_type": "markdown",
   "metadata": {},
   "source": [
    "## 完整AdaBoost算法的实现"
   ]
  },
  {
   "cell_type": "markdown",
   "metadata": {},
   "source": [
    "```\n",
    "对每次迭代：\n",
    "    利用buildStump()函数找到最佳的单层决策树\n",
    "    将最佳单层决策树加入到单层决策树数组\n",
    "    计算alpha\n",
    "    计算新的权重向量D\n",
    "    更新累计类别估计值\n",
    "    如果错误率等于0.0，则推出循环\n",
    "```"
   ]
  },
  {
   "cell_type": "code",
   "execution_count": 5,
   "metadata": {},
   "outputs": [],
   "source": [
    "def adaBoostTrainDS(dataArr,classLabels,numIt=40):\n",
    "    # 弱分类器相关信息列表\n",
    "    weakClassArr = []\n",
    "    m = np.shape(dataArr)[0]\n",
    "    # init D to all equal\n",
    "    D = np.mat(np.ones((m,1))/m)\n",
    "    # 累计估计值向量\n",
    "    aggClassEst = np.mat(np.zeros((m,1)))\n",
    "    # 循环迭代次数\n",
    "    for i in range(numIt):\n",
    "        bestStump,error,classEst = buildStump(dataArr,classLabels,D)#build Stump\n",
    "        #print (\"D:\",D.T)\n",
    "        # calc alpha, max(error,eps)确保没有错误时不会发生除零溢出\n",
    "        alpha = float(0.5*np.log((1.0-error)/max(error,1e-16)))\n",
    "        # 字典存储单层决策树的系数\n",
    "        bestStump['alpha'] = alpha\n",
    "        # 将该决策树存入到列表\n",
    "        weakClassArr.append(bestStump)\n",
    "        #print (\"classEst: \",classEst.T)\n",
    "        # 更新权值向量\n",
    "        expon = np.multiply(-1*alpha*np.mat(classLabels).T,classEst) #exponent for D calc, getting messy\n",
    "        D = np.multiply(D,np.exp(expon))                              #Calc New D for next iteration\n",
    "        D = D/D.sum()\n",
    "        #calc training error of all classifiers, if this is 0 quit for loop early (use break)\n",
    "        # 累加当前单层决策树的加权预测值\n",
    "        aggClassEst += alpha*classEst\n",
    "        #print (\"aggClassEst: \",aggClassEst.T)\n",
    "        # 求出分类错的样本数\n",
    "        aggErrors = np.multiply(np.sign(aggClassEst) != np.mat(classLabels).T,np.ones((m,1)))\n",
    "        # 计算错误率\n",
    "        errorRate = aggErrors.sum()/m\n",
    "        #print (\"total error: \",errorRate)\n",
    "        if errorRate == 0.0:\n",
    "            break\n",
    "    # 返回弱分类器的组合列表\n",
    "    return weakClassArr# ,aggClassEst"
   ]
  },
  {
   "cell_type": "code",
   "execution_count": 11,
   "metadata": {},
   "outputs": [
    {
     "name": "stdout",
     "output_type": "stream",
     "text": [
      "D: [[0.2 0.2 0.2 0.2 0.2]]\n",
      "classEst:  [[-1.  1. -1. -1.  1.]]\n",
      "total error:  0.2\n",
      "D: [[0.5   0.125 0.125 0.125 0.125]]\n",
      "classEst:  [[ 1.  1. -1. -1. -1.]]\n",
      "total error:  0.2\n",
      "D: [[0.28571429 0.07142857 0.07142857 0.07142857 0.5       ]]\n",
      "classEst:  [[1. 1. 1. 1. 1.]]\n",
      "total error:  0.0\n"
     ]
    },
    {
     "data": {
      "text/plain": [
       "([{'dim': 0, 'thresh': 1.3, 'ineq': 'lt', 'alpha': 0.6931471805599453},\n",
       "  {'dim': 1, 'thresh': 1.0, 'ineq': 'lt', 'alpha': 0.9729550745276565},\n",
       "  {'dim': 0, 'thresh': 0.9, 'ineq': 'lt', 'alpha': 0.8958797346140273}],\n",
       " matrix([[ 1.17568763],\n",
       "         [ 2.56198199],\n",
       "         [-0.77022252],\n",
       "         [-0.77022252],\n",
       "         [ 0.61607184]]))"
      ]
     },
     "execution_count": 11,
     "metadata": {},
     "output_type": "execute_result"
    }
   ],
   "source": [
    "adaBoostTrainDS(datMat,classLabels,9)"
   ]
  },
  {
   "cell_type": "markdown",
   "metadata": {},
   "source": [
    "# 测试算法：基于AdaBoost的分类"
   ]
  },
  {
   "cell_type": "markdown",
   "metadata": {},
   "source": [
    "将弱分类器的训练过程从程序中抽出来，然后应用到某个具体的实例上去。每个弱分类器的结果以其对应的alpha值作为权重。所有这些弱分类器的结果加权求和就得到了最后的结果。"
   ]
  },
  {
   "cell_type": "code",
   "execution_count": 6,
   "metadata": {},
   "outputs": [],
   "source": [
    "def adaClassify(datToClass,classifierArr):\n",
    "    \"\"\"\n",
    "    利用训练出的多个弱分类器进行分类\n",
    "    :param datToClass: 一个或多个待分类样例\n",
    "    :param classifierArr: 多个弱分类器组成的数组\n",
    "    :return:\n",
    "    \"\"\"\n",
    "    dataMatrix = np.mat(datToClass)#do stuff similar to last aggClassEst in adaBoostTrainDS\n",
    "    m = np.shape(dataMatrix)[0]\n",
    "    aggClassEst = np.mat(np.zeros((m,1)))\n",
    "    # 遍历所有的弱分类器\n",
    "    for i in range(len(classifierArr)):\n",
    "        classEst = stumpClassify(dataMatrix,classifierArr[i]['dim'],classifierArr[i]['thresh'],\\\n",
    "                                 classifierArr[i]['ineq'])#call stump classify\n",
    "        aggClassEst += classifierArr[i]['alpha']*classEst\n",
    "        #print (aggClassEst)\n",
    "    # 返回元素的符号（大于0返回+1，小于0返回-1）\n",
    "    return np.sign(aggClassEst)"
   ]
  },
  {
   "cell_type": "code",
   "execution_count": 9,
   "metadata": {},
   "outputs": [
    {
     "data": {
      "text/plain": [
       "matrix([[-1.]])"
      ]
     },
     "execution_count": 9,
     "metadata": {},
     "output_type": "execute_result"
    }
   ],
   "source": [
    "# test\n",
    "classifierArr = adaBoostTrainDS(datMat,classLabels,30)\n",
    "adaClassify([0,0],classifierArr)"
   ]
  },
  {
   "cell_type": "code",
   "execution_count": 10,
   "metadata": {},
   "outputs": [
    {
     "name": "stdout",
     "output_type": "stream",
     "text": [
      "[[ 0.69314718]\n",
      " [-0.69314718]]\n",
      "[[ 1.66610226]\n",
      " [-1.66610226]]\n",
      "[[ 2.56198199]\n",
      " [-2.56198199]]\n"
     ]
    },
    {
     "data": {
      "text/plain": [
       "matrix([[ 1.],\n",
       "        [-1.]])"
      ]
     },
     "execution_count": 10,
     "metadata": {},
     "output_type": "execute_result"
    }
   ],
   "source": [
    "adaClassify([[5,5],[0,0]],classifierArr)"
   ]
  },
  {
   "cell_type": "markdown",
   "metadata": {},
   "source": [
    "------"
   ]
  },
  {
   "cell_type": "markdown",
   "metadata": {},
   "source": [
    "## 示例：在一个数据集上应用AdaBoost进行分类"
   ]
  },
  {
   "cell_type": "markdown",
   "metadata": {},
   "source": [
    "在马疝病数据集上应用AdaBoost分类器，预测欢迎疝病的马是否存活"
   ]
  },
  {
   "cell_type": "markdown",
   "metadata": {},
   "source": [
    "### 自适应数据加载函数     \n",
    "\n",
    "该函数能够自动检测出特征的数目，并假定最后一个特征是类别标签"
   ]
  },
  {
   "cell_type": "code",
   "execution_count": 10,
   "metadata": {},
   "outputs": [],
   "source": [
    "def loadDataSet(fileName):      #general function to parse tab -delimited floats\n",
    "    numFeat = len(open(fileName).readline().split('\\t')) #get number of fields \n",
    "    dataMat = []\n",
    "    labelMat = []\n",
    "    fr = open(fileName)\n",
    "    for line in fr.readlines():\n",
    "        lineArr =[]\n",
    "        curLine = line.strip().split('\\t')\n",
    "        for i in range(numFeat-1):\n",
    "            lineArr.append(float(curLine[i]))\n",
    "        dataMat.append(lineArr)\n",
    "        labelMat.append(float(curLine[-1]))\n",
    "    return dataMat,labelMat"
   ]
  },
  {
   "cell_type": "code",
   "execution_count": 11,
   "metadata": {
    "scrolled": true
   },
   "outputs": [
    {
     "data": {
      "text/plain": [
       "[{'dim': 9, 'thresh': 3.0, 'ineq': 'gt', 'alpha': 0.4616623792657674},\n",
       " {'dim': 17, 'thresh': 52.5, 'ineq': 'gt', 'alpha': 0.31248245042467104},\n",
       " {'dim': 3,\n",
       "  'thresh': 55.199999999999996,\n",
       "  'ineq': 'gt',\n",
       "  'alpha': 0.2868097320169577},\n",
       " {'dim': 18,\n",
       "  'thresh': 62.300000000000004,\n",
       "  'ineq': 'lt',\n",
       "  'alpha': 0.23297004638939506},\n",
       " {'dim': 10, 'thresh': 0.0, 'ineq': 'lt', 'alpha': 0.19803846151213741},\n",
       " {'dim': 5, 'thresh': 2.0, 'ineq': 'gt', 'alpha': 0.18847887349020634},\n",
       " {'dim': 12, 'thresh': 1.2, 'ineq': 'lt', 'alpha': 0.15227368997476778},\n",
       " {'dim': 7, 'thresh': 1.2, 'ineq': 'gt', 'alpha': 0.15510870821690512},\n",
       " {'dim': 5, 'thresh': 0.0, 'ineq': 'lt', 'alpha': 0.13536197353359405},\n",
       " {'dim': 4,\n",
       "  'thresh': 28.799999999999997,\n",
       "  'ineq': 'lt',\n",
       "  'alpha': 0.12521587326132078},\n",
       " {'dim': 11, 'thresh': 2.0, 'ineq': 'gt', 'alpha': 0.1334764812820767},\n",
       " {'dim': 9, 'thresh': 4.0, 'ineq': 'lt', 'alpha': 0.1418224325377107},\n",
       " {'dim': 14, 'thresh': 0.0, 'ineq': 'gt', 'alpha': 0.10264268449708028},\n",
       " {'dim': 0, 'thresh': 1.0, 'ineq': 'lt', 'alpha': 0.11883732872109484},\n",
       " {'dim': 4, 'thresh': 19.2, 'ineq': 'gt', 'alpha': 0.09879216527106625},\n",
       " {'dim': 2, 'thresh': 36.72, 'ineq': 'lt', 'alpha': 0.12029960885056867},\n",
       " {'dim': 3, 'thresh': 92.0, 'ineq': 'lt', 'alpha': 0.10846927663989175},\n",
       " {'dim': 15, 'thresh': 0.0, 'ineq': 'lt', 'alpha': 0.09652967982091411},\n",
       " {'dim': 3, 'thresh': 73.6, 'ineq': 'gt', 'alpha': 0.08958515309272022},\n",
       " {'dim': 18, 'thresh': 8.9, 'ineq': 'lt', 'alpha': 0.09210361961272426},\n",
       " {'dim': 16, 'thresh': 4.0, 'ineq': 'gt', 'alpha': 0.10464142217079622},\n",
       " {'dim': 11, 'thresh': 3.2, 'ineq': 'lt', 'alpha': 0.09575457291711606},\n",
       " {'dim': 20, 'thresh': 0.0, 'ineq': 'gt', 'alpha': 0.09624217440331524},\n",
       " {'dim': 17, 'thresh': 37.5, 'ineq': 'lt', 'alpha': 0.0785966288518967},\n",
       " {'dim': 9, 'thresh': 2.0, 'ineq': 'lt', 'alpha': 0.0714286363455072},\n",
       " {'dim': 5, 'thresh': 2.0, 'ineq': 'gt', 'alpha': 0.07830753154662214},\n",
       " {'dim': 4,\n",
       "  'thresh': 28.799999999999997,\n",
       "  'ineq': 'lt',\n",
       "  'alpha': 0.07606159074712784},\n",
       " {'dim': 4, 'thresh': 19.2, 'ineq': 'gt', 'alpha': 0.08306752811081955},\n",
       " {'dim': 7, 'thresh': 4.2, 'ineq': 'gt', 'alpha': 0.0830416741141175},\n",
       " {'dim': 3, 'thresh': 92.0, 'ineq': 'lt', 'alpha': 0.08893356802801224},\n",
       " {'dim': 14, 'thresh': 3.0, 'ineq': 'gt', 'alpha': 0.07000509315417908},\n",
       " {'dim': 7,\n",
       "  'thresh': 5.3999999999999995,\n",
       "  'ineq': 'lt',\n",
       "  'alpha': 0.07697582358565964},\n",
       " {'dim': 18, 'thresh': 0.0, 'ineq': 'lt', 'alpha': 0.08507457442866707},\n",
       " {'dim': 5, 'thresh': 3.2, 'ineq': 'lt', 'alpha': 0.0676590387302069},\n",
       " {'dim': 7, 'thresh': 3.0, 'ineq': 'gt', 'alpha': 0.08045680822237049},\n",
       " {'dim': 12, 'thresh': 1.2, 'ineq': 'lt', 'alpha': 0.05616862921969557},\n",
       " {'dim': 11, 'thresh': 2.0, 'ineq': 'gt', 'alpha': 0.06454264376249863},\n",
       " {'dim': 7,\n",
       "  'thresh': 5.3999999999999995,\n",
       "  'ineq': 'lt',\n",
       "  'alpha': 0.05308888435382875},\n",
       " {'dim': 11, 'thresh': 0.0, 'ineq': 'lt', 'alpha': 0.0734605861478849},\n",
       " {'dim': 13, 'thresh': 0.0, 'ineq': 'gt', 'alpha': 0.07872267320907414}]"
      ]
     },
     "execution_count": 11,
     "metadata": {},
     "output_type": "execute_result"
    }
   ],
   "source": [
    "# test\n",
    "fileName = 'C:\\\\Users\\ms\\Desktop\\machinelearninginaction\\Ch07\\horseColicTraining2.txt'\n",
    "datArr, labelArr = loadDataSet(fileName)\n",
    "classifierArr = adaBoostTrainDS(datArr,labelArr)\n",
    "classifierArr"
   ]
  },
  {
   "cell_type": "code",
   "execution_count": 12,
   "metadata": {
    "scrolled": true
   },
   "outputs": [
    {
     "data": {
      "text/plain": [
       "matrix([[ 1.],\n",
       "        [ 1.],\n",
       "        [ 1.],\n",
       "        [-1.],\n",
       "        [ 1.],\n",
       "        [ 1.],\n",
       "        [ 1.],\n",
       "        [ 1.],\n",
       "        [ 1.],\n",
       "        [-1.],\n",
       "        [-1.],\n",
       "        [-1.],\n",
       "        [-1.],\n",
       "        [ 1.],\n",
       "        [ 1.],\n",
       "        [ 1.],\n",
       "        [ 1.],\n",
       "        [-1.],\n",
       "        [-1.],\n",
       "        [-1.],\n",
       "        [-1.],\n",
       "        [ 1.],\n",
       "        [-1.],\n",
       "        [-1.],\n",
       "        [ 1.],\n",
       "        [ 1.],\n",
       "        [ 1.],\n",
       "        [ 1.],\n",
       "        [ 1.],\n",
       "        [ 1.],\n",
       "        [ 1.],\n",
       "        [-1.],\n",
       "        [-1.],\n",
       "        [-1.],\n",
       "        [-1.],\n",
       "        [-1.],\n",
       "        [ 1.],\n",
       "        [ 1.],\n",
       "        [ 1.],\n",
       "        [ 1.],\n",
       "        [ 1.],\n",
       "        [ 1.],\n",
       "        [-1.],\n",
       "        [-1.],\n",
       "        [-1.],\n",
       "        [ 1.],\n",
       "        [-1.],\n",
       "        [ 1.],\n",
       "        [ 1.],\n",
       "        [-1.],\n",
       "        [-1.],\n",
       "        [ 1.],\n",
       "        [ 1.],\n",
       "        [ 1.],\n",
       "        [ 1.],\n",
       "        [ 1.],\n",
       "        [ 1.],\n",
       "        [-1.],\n",
       "        [ 1.],\n",
       "        [-1.],\n",
       "        [ 1.],\n",
       "        [-1.],\n",
       "        [ 1.],\n",
       "        [ 1.],\n",
       "        [ 1.],\n",
       "        [ 1.],\n",
       "        [ 1.]])"
      ]
     },
     "execution_count": 12,
     "metadata": {},
     "output_type": "execute_result"
    }
   ],
   "source": [
    "# 预测测试集\n",
    "testArr, testLabelArr = loadDataSet('C:\\\\Users\\ms\\Desktop\\machinelearninginaction\\Ch07\\horseColicTest2.txt')\n",
    "prediction10 = adaClassify(testArr,classifierArr)\n",
    "prediction10"
   ]
  },
  {
   "cell_type": "code",
   "execution_count": 13,
   "metadata": {},
   "outputs": [
    {
     "data": {
      "text/plain": [
       "0.19402985074626866"
      ]
     },
     "execution_count": 13,
     "metadata": {},
     "output_type": "execute_result"
    }
   ],
   "source": [
    "# 预测测试集上结果的错误率\n",
    "errArr = np.mat(np.ones((len(testArr),1)))\n",
    "errNum = errArr[prediction10 != np.mat(testLabelArr).T].sum()   # 预测错误总个数\n",
    "errRate = errNum/len(testArr)   # 预测错误率\n",
    "errRate"
   ]
  },
  {
   "cell_type": "markdown",
   "metadata": {},
   "source": [
    "## 不同弱分类器数目情况下AdaBoost测试和分类错误率"
   ]
  },
  {
   "cell_type": "code",
   "execution_count": 14,
   "metadata": {},
   "outputs": [],
   "source": [
    "import matplotlib.pyplot as plt\n",
    "%matplotlib inline\n",
    "plt.rcParams['font.sans-serif'] = ['SimHei']  # 指定默认字体\n",
    "plt.rcParams['axes.unicode_minus'] = False  # 解决保存图像时负号'-'显示为方块的问题"
   ]
  },
  {
   "cell_type": "code",
   "execution_count": 62,
   "metadata": {},
   "outputs": [],
   "source": [
    "errRateList = []\n",
    "errTestRateList  = []\n",
    "\n",
    "for i in range(1,1000):\n",
    "    # 训练数据集\n",
    "    classifierArr = adaBoostTrainDS(datArr,labelArr,i)\n",
    "    pre = adaClassify(datArr,classifierArr)\n",
    "    errArr = np.mat(np.ones((len(labelArr),1)))\n",
    "    errRate = errArr[pre != np.mat(labelArr).T].sum() / len(labelArr)\n",
    "    errRateList.append(errRate)\n",
    "    \n",
    "    # 测试数据集\n",
    "    preTest = adaClassify(testArr,classifierArr)\n",
    "    errTest = np.mat(np.ones((len(testArr),1)))\n",
    "    errTestRate = errTest[preTest != np.mat(testLabelArr).T].sum() / len(testLabelArr)\n",
    "    errTestRateList.append(errTestRate)\n",
    "    \n"
   ]
  },
  {
   "cell_type": "code",
   "execution_count": 73,
   "metadata": {},
   "outputs": [
    {
     "data": {
      "image/png": "[encoded data removed]",
      "text/plain": [
       "<Figure size 432x288 with 1 Axes>"
      ]
     },
     "metadata": {},
     "output_type": "display_data"
    }
   ],
   "source": [
    "    \n",
    "# 画图\n",
    "plt.plot(range(1,1000,1),errRateList)\n",
    "plt.plot(range(1,1000,1),errTestRateList)\n",
    "plt.legend(['训练错误率','测试错误率'],loc='upper left')\n",
    "plt.xlabel(\"分类器数目\")\n",
    "plt.ylabel(\"错误率\")\n",
    "plt.title(\"不同弱分类器数目情况下的AdaBoost测试和分类错误率\")\n",
    "\n",
    "# 标注\n",
    "#for xy in zip(range(1,1000,10),errTestRateList):\n",
    "#    minVal = min(errTestRateList)\n",
    "#    if xy[1] == minVal:\n",
    "#        plt.annotate(\"(%s,%s)\" % xy, xy=xy,xytext=(50, min(errTestRateList)), textcoords='offset points')\n",
    "plt.scatter(errTestRateList.index(min(errTestRateList)),min(errTestRateList),c='k',marker='o')\n",
    "plt.annotate(\"(%s,%.4s)\" % (errTestRateList.index(min(errTestRateList)),min(errTestRateList)), xy=(errTestRateList.index(min(errTestRateList)),\n",
    "             min(errTestRateList)),xytext=(300, 0.2),arrowprops=dict(facecolor='black', shrink=0.05))\n",
    "plt.show()"
   ]
  },
  {
   "cell_type": "code",
   "execution_count": null,
   "metadata": {},
   "outputs": [],
   "source": []
  }
 ],
 "metadata": {
  "kernelspec": {
   "display_name": "Python 3",
   "language": "python",
   "name": "python3"
  },
  "language_info": {
   "codemirror_mode": {
    "name": "ipython",
    "version": 3
   },
   "file_extension": ".py",
   "mimetype": "text/x-python",
   "name": "python",
   "nbconvert_exporter": "python",
   "pygments_lexer": "ipython3",
   "version": "3.6.5"
  }
 },
 "nbformat": 4,
 "nbformat_minor": 2
}
