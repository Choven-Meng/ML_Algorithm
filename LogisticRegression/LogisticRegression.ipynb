{
 "cells": [
  {
   "cell_type": "code",
   "execution_count": 1,
   "metadata": {},
   "outputs": [],
   "source": [
    "import numpy as np"
   ]
  },
  {
   "cell_type": "code",
   "execution_count": 2,
   "metadata": {},
   "outputs": [],
   "source": [
    "def loadDataSet(filename):\n",
    "    dataMat = []\n",
    "    labelMat = []\n",
    "    fr = open(filename)\n",
    "    for line in fr.readlines():\n",
    "        lineArr = line.strip().split()\n",
    "        #将每一行的两个特征x1，x2，加上x0=1,组成列表并添加到数据集列表中\n",
    "        dataMat.append([1.0]+[float(arr) for arr in lineArr[0:-1]])\n",
    "        labelMat.append(int(lineArr[-1]))\n",
    "    return dataMat,labelMat"
   ]
  },
  {
   "cell_type": "code",
   "execution_count": 3,
   "metadata": {},
   "outputs": [
    {
     "data": {
      "text/plain": [
       "[[1.0, -0.017612, 14.053064],\n",
       " [1.0, -1.395634, 4.662541],\n",
       " [1.0, -0.752157, 6.53862],\n",
       " [1.0, -1.322371, 7.152853],\n",
       " [1.0, 0.423363, 11.054677]]"
      ]
     },
     "execution_count": 3,
     "metadata": {},
     "output_type": "execute_result"
    }
   ],
   "source": [
    "# test\n",
    "dataMat, labelMat = loadDataSet(\"C:\\\\Users\\\\ms\\\\Desktop\\\\machinelearninginaction\\\\Ch05\\\\testSet.txt\")\n",
    "dataMat[0:5]"
   ]
  },
  {
   "cell_type": "markdown",
   "metadata": {},
   "source": [
    "## 使用批量梯度上升找到最佳参数"
   ]
  },
  {
   "cell_type": "code",
   "execution_count": 4,
   "metadata": {},
   "outputs": [],
   "source": [
    "def sigmoid(inX):\n",
    "    return 1.0/(1+np.exp(-inX))"
   ]
  },
  {
   "cell_type": "code",
   "execution_count": 8,
   "metadata": {},
   "outputs": [],
   "source": [
    "# 批量梯度上升算法\n",
    "def batchGradAscent(dataMatIn, classLabels):\n",
    "    dataMatrix = np.mat(dataMatIn)   #convert to NumPy matrix\n",
    "    # convert to NumPy matrix\n",
    "    labelMat = np.mat(classLabels).transpose()  # 转换数组的维度,行向量转换为列向量\n",
    "    m,n = np.shape(dataMatrix)\n",
    "    alpha = 0.001  # 步长\n",
    "    maxCycles = 500  # 迭代次数\n",
    "    # n x 1为数组\n",
    "    weights = np.ones((n,1)) # n维列向量\n",
    "    for k in range(maxCycles):              #heavy on matrix operations\n",
    "        #计算所有数据的分类概率，h是m维向量,这里实际上进行了m*n次乘法运算\n",
    "        h = sigmoid(dataMatrix*weights)     #matrix mult 算法的预测\n",
    "        error = (labelMat - h)              #vector subtraction\n",
    "        gradient = dataMatrix.transpose() * error # 计算梯度\n",
    "        weights = weights + alpha * gradient #matrix mult\n",
    "    return weights"
   ]
  },
  {
   "cell_type": "code",
   "execution_count": 49,
   "metadata": {},
   "outputs": [
    {
     "data": {
      "text/plain": [
       "matrix([[ 4.12414349],\n",
       "        [ 0.48007329],\n",
       "        [-0.6168482 ]])"
      ]
     },
     "execution_count": 49,
     "metadata": {},
     "output_type": "execute_result"
    }
   ],
   "source": [
    "BGAweights = gradAscent(dataMat,labelMat)\n",
    "BGAweights"
   ]
  },
  {
   "cell_type": "markdown",
   "metadata": {},
   "source": [
    "## 分析数据：画出决策边界"
   ]
  },
  {
   "cell_type": "code",
   "execution_count": 64,
   "metadata": {},
   "outputs": [],
   "source": [
    "import matplotlib.pyplot as plt\n",
    "%matplotlib inline"
   ]
  },
  {
   "cell_type": "code",
   "execution_count": 105,
   "metadata": {},
   "outputs": [],
   "source": [
    "def plotBestFit(dataMat,labelMat,weights):\n",
    "    \"\"\"\n",
    "    :param weights:必须是np.mat()类型（matrix）\n",
    "    \"\"\"\n",
    "    import matplotlib.pyplot as plt\n",
    "    dataArr = np.array(dataMat)\n",
    "    n = np.shape(dataArr)[0]\n",
    "    xcord1 = []; ycord1 = []\n",
    "    xcord2 = []; ycord2 = []\n",
    "    for i in range(n):\n",
    "        if int(labelMat[i])== 1:\n",
    "            xcord1.append(dataArr[i,1])\n",
    "            ycord1.append(dataArr[i,2])\n",
    "        else:\n",
    "            xcord2.append(dataArr[i,1])\n",
    "            ycord2.append(dataArr[i,2])\n",
    "    fig = plt.figure()\n",
    "    ax = fig.add_subplot(111)\n",
    "    ax.scatter(xcord1, ycord1, s=30, c='red', marker='s')\n",
    "    ax.scatter(xcord2, ycord2, s=30, c='green')\n",
    "    # min_x = np.mat(dataMat)[:, 1].min()\n",
    "    # max_x = np.mat(dataMat)[:, 2].max()\n",
    "    # y_min_x = (-weights[0] - weights[1] * min_x) / weights[2]\n",
    "    # y_max_x = (-weights[0] - weights[1] * max_x) / weights[2]  # here, sigmoid(wx = 0) so wo + w1*x1 + w2*x2 = 0\n",
    "    # plt.plot([min_x, max_x], [y_min_x[0, 0], y_max_x[0, 0]], '-g')\n",
    "    \n",
    "    x = np.arange(-3.0,3.0,0.1)\n",
    "    y = np.array( (-weights[0] - weights[1]*x) / weights[2])[0]\n",
    "    ax.plot(x,y)\n",
    "    plt.xlabel('X1')\n",
    "    plt.ylabel('X2')\n",
    "    plt.show()"
   ]
  },
  {
   "cell_type": "code",
   "execution_count": 106,
   "metadata": {},
   "outputs": [
    {
     "data": {
      "image/png": "[encoded data removed]",
      "text/plain": [
       "<Figure size 432x288 with 1 Axes>"
      ]
     },
     "metadata": {},
     "output_type": "display_data"
    }
   ],
   "source": [
    "plotBestFit(dataMat,labelMat,BGAweights)"
   ]
  },
  {
   "cell_type": "markdown",
   "metadata": {},
   "source": [
    "## 随机梯度上升算法"
   ]
  },
  {
   "cell_type": "markdown",
   "metadata": {},
   "source": [
    "随机梯度上升算法与梯度上升算法在代码上很相似，但也有一些区别：1、梯度算法的变量h和误差error都是向量，而随机梯度的全是数值；2、随机梯度没有矩阵的转换过程，所有的变量类型都是numpy数组。"
   ]
  },
  {
   "cell_type": "code",
   "execution_count": 164,
   "metadata": {},
   "outputs": [],
   "source": [
    "def stocGradAscent0(dataMatrix, classLabels):\n",
    "    m,n = np.shape(dataMatrix)\n",
    "    alpha = 0.01\n",
    "    # 1 x n维数组\n",
    "    weights = np.ones(n)   #initialize to all ones\n",
    "    for i in range(m):\n",
    "        h = sigmoid(sum(dataMatrix[i]*weights))\n",
    "        error = classLabels[i] - h #误差\n",
    "        stocGrad =  error * dataMatrix[i] # 随机梯度\n",
    "        weights = weights + alpha * stocGrad\n",
    "    return weights"
   ]
  },
  {
   "cell_type": "code",
   "execution_count": 166,
   "metadata": {},
   "outputs": [
    {
     "data": {
      "text/plain": [
       "matrix([[ 1.01702007],\n",
       "        [ 0.85914348],\n",
       "        [-0.36579921]])"
      ]
     },
     "execution_count": 166,
     "metadata": {},
     "output_type": "execute_result"
    }
   ],
   "source": [
    "# dataMat是列表，error是float，两者不能相乘，需要将列表转换为array类型\n",
    "# 为调用plotBestFit画图，需要将weights转换成列向量\n",
    "SGAweights0 = np.mat(stocGradAscent0(np.array(dataMat),labelMat)).transpose()\n",
    "SGAweights0"
   ]
  },
  {
   "cell_type": "code",
   "execution_count": 141,
   "metadata": {},
   "outputs": [
    {
     "data": {
      "image/png": "[encoded data removed]",
      "text/plain": [
       "<Figure size 432x288 with 1 Axes>"
      ]
     },
     "metadata": {},
     "output_type": "display_data"
    }
   ],
   "source": [
    "plotBestFit(dataMat,labelMat,SGAweights0)"
   ]
  },
  {
   "cell_type": "markdown",
   "metadata": {},
   "source": [
    "拟合后，分类器错分了三分之一的样本"
   ]
  },
  {
   "cell_type": "markdown",
   "metadata": {},
   "source": [
    "### 改进的随机梯度上升算法"
   ]
  },
  {
   "cell_type": "code",
   "execution_count": 168,
   "metadata": {},
   "outputs": [],
   "source": [
    "def stocGradAscent1(dataMatrix, classLabels, numIter=150):\n",
    "    m,n = np.shape(dataMatrix)\n",
    "    weights = np.ones(n)   #initialize to all ones\n",
    "    for j in range(numIter):\n",
    "        dataIndex = list(range(m))\n",
    "        for i in range(m):\n",
    "            # alpha每次迭代时都调整,随迭代次数不断减小，但永远不会减小到0,解决局部波动\n",
    "            # 保证在多次迭代后新数据仍具有一定的影响\n",
    "            alpha = 4/(1.0+j+i)+0.0001    #apha decreases with iteration, does not \n",
    "            # 随机选取样本更新回归系数\n",
    "            randIndex = int(np.random.uniform(0,len(dataIndex)))#go to 0 because of the constant\n",
    "            h = sigmoid(sum(dataMatrix[randIndex]*weights))\n",
    "            error = classLabels[randIndex] - h\n",
    "            weights = weights + alpha * error * dataMatrix[randIndex]\n",
    "            # 使用完后删除随机选取的值\n",
    "            del(dataIndex[randIndex]) #必选把range对象转换为list，不能删除range对象\n",
    "    return weights"
   ]
  },
  {
   "cell_type": "code",
   "execution_count": 170,
   "metadata": {},
   "outputs": [
    {
     "data": {
      "text/plain": [
       "matrix([[14.54927401],\n",
       "        [ 1.12781549],\n",
       "        [-1.97381997]])"
      ]
     },
     "execution_count": 170,
     "metadata": {},
     "output_type": "execute_result"
    }
   ],
   "source": [
    "SGAweights1 = np.mat(stocGradAscent1(np.array(dataMat),labelMat)).transpose()\n",
    "SGAweights1"
   ]
  },
  {
   "cell_type": "code",
   "execution_count": 171,
   "metadata": {},
   "outputs": [
    {
     "data": {
      "image/png": "[encoded data removed]",
      "text/plain": [
       "<Figure size 432x288 with 1 Axes>"
      ]
     },
     "metadata": {},
     "output_type": "display_data"
    }
   ],
   "source": [
    "plotBestFit(dataMat,labelMat,SGAweights1)"
   ]
  },
  {
   "cell_type": "markdown",
   "metadata": {},
   "source": [
    "## 牛顿法"
   ]
  },
  {
   "cell_type": "code",
   "execution_count": 176,
   "metadata": {},
   "outputs": [],
   "source": [
    " '''\n",
    " functuion: 牛顿法更新theta（θ）,计算海森矩阵\n",
    " note: 这里一定要对 XT*X 结果求逆，不然分类效果无法直视\n",
    " '''\n",
    " def computeHessianMatrix(dataMatrix):\n",
    "     hessianMatrix = np.mat(dataMatrix).transpose().dot(np.mat(dataMatrix))\n",
    "     return hessianMatrix.I #矩阵求逆"
   ]
  },
  {
   "cell_type": "code",
   "execution_count": 177,
   "metadata": {},
   "outputs": [],
   "source": [
    "'''\n",
    "function: 牛顿法更新theta\n",
    "'''\n",
    "def newtonMethod(dataMat, labelMat, numIter = 150):\n",
    "    m,n = np.shape(dataMat)\n",
    "    dataMatrix = np.mat(dataMat)\n",
    "    labelMat = np.mat(labelMat).transpose()\n",
    "    weights = np.ones((n,1)) #参数向量\n",
    "    hessianMatrix = computeHessianMatrix(dataMatrix)\n",
    "    #print('shape of hessian', shape(hessianMatrix))\n",
    "    for k in range(numIter):\n",
    "        h = sigmoid(dataMatrix * weights)\n",
    "        error = (labelMat - h)\n",
    "        weights = weights - (dataMatrix*hessianMatrix).transpose() * error \n",
    "    return weights"
   ]
  },
  {
   "cell_type": "code",
   "execution_count": 178,
   "metadata": {},
   "outputs": [
    {
     "data": {
      "text/plain": [
       "matrix([[-163.75559123],\n",
       "        [ -15.63335665],\n",
       "        [  28.52015042]])"
      ]
     },
     "execution_count": 178,
     "metadata": {},
     "output_type": "execute_result"
    }
   ],
   "source": [
    "NTweights = newtonMethod(dataMat,labelMat)\n",
    "NTweights"
   ]
  },
  {
   "cell_type": "code",
   "execution_count": 179,
   "metadata": {},
   "outputs": [
    {
     "data": {
      "image/png": "[encoded data removed]",
      "text/plain": [
       "<Figure size 432x288 with 1 Axes>"
      ]
     },
     "metadata": {},
     "output_type": "display_data"
    }
   ],
   "source": [
    "plotBestFit(dataMat,labelMat,NTweights)"
   ]
  },
  {
   "cell_type": "markdown",
   "metadata": {},
   "source": [
    "__________________"
   ]
  },
  {
   "cell_type": "markdown",
   "metadata": {},
   "source": [
    "## 预测示例：从疝气病症预测病马的死亡率"
   ]
  },
  {
   "cell_type": "markdown",
   "metadata": {},
   "source": [
    "数据包含368个样本和28个特征，有30%的值是缺失的。  \n",
    "需要对数据集进行预处理，使其可以顺利的使用分类算法。在预处理阶段需要做两件事：1、多有的缺失值必须用一个实数替换，因为我们使用的numpy数据类型不允许包含缺失值。这里选择实数0来替换所有缺失值，恰好能适用于logistic回归。选择0的原因是我们需要的是一个在更新时不会影响系数的值。回归系数的更新公式为：   \n",
    "weights = weights + alpha * error * dataMatrix[randIndex]  \n",
    "如果dataMatrix的某特征对应值为0，那么该特征的系数将不会更新，即：  \n",
    "weights = weights  \n",
    "另外，由于sigmoid(0)=0.5，即它对结果的预测不会有任何倾向性，因此上述做法也不会对误差项造成任何影响。  \n",
    "预处理中做的第二件事是，如果在测试数据集中发现一条数据的类别标签已经缺失，那么我们的简单做法是将该数据丢弃。这是因为类别标签与特征不同，很难确定采用哪个合适的值来替换。采用logistic回归进行分类时这种做法是合理的，而如果采用类似KNN的方法就可能不行。"
   ]
  },
  {
   "cell_type": "markdown",
   "metadata": {},
   "source": [
    "## 测试算法：用Logistic回归进行分类"
   ]
  },
  {
   "cell_type": "markdown",
   "metadata": {},
   "source": [
    "使用logistic回归方法进行分类，所需做的是把测试集上每个特征向量乘以最优化方法得来的回归系数，再将该乘积结果求和，最后输入到sigmoid函数中即可。如果对应的sigmoid值大于0.5就预测类别标签为1，否则为0\n"
   ]
  },
  {
   "cell_type": "code",
   "execution_count": 180,
   "metadata": {},
   "outputs": [],
   "source": [
    "def classifyVector(inX, weights):\n",
    "    prob = sigmoid(sum(inX*weights))\n",
    "    if prob > 0.5:\n",
    "        return 1.0\n",
    "    else:\n",
    "        return 0.0"
   ]
  },
  {
   "cell_type": "code",
   "execution_count": 181,
   "metadata": {},
   "outputs": [],
   "source": [
    "def colicTest():\n",
    "    \"\"\"\n",
    "    打开测试集和训练集，并对数据进行格式化处理。\n",
    "    数据最初有三个类别标签，分别代表马的三种情况：仍存活、已经死亡和已经安乐死。\n",
    "    为了方便将已经死亡和已经安乐死合并为’未能存活‘标签（只有0和1两个值）\n",
    "    :return:\n",
    "    \"\"\"\n",
    "    frTrain = open('C:\\\\Users\\ms\\Desktop\\machinelearninginaction\\Ch05\\horseColicTraining.txt')\n",
    "    frTest = open('C:\\\\Users\\ms\\Desktop\\machinelearninginaction\\Ch05\\horseColicTest.txt')\n",
    "    trainingSet = []\n",
    "    trainingLabels = []\n",
    "    for line in frTrain.readlines():\n",
    "        currLine = line.strip().split('\\t')\n",
    "        lineArr =[]\n",
    "        for i in range(21):\n",
    "            lineArr.append(float(currLine[i]))\n",
    "        trainingSet.append(lineArr)\n",
    "        trainingLabels.append(float(currLine[21]))\n",
    "    # 计算回归系数向量\n",
    "    trainWeights = stocGradAscent1(np.array(trainingSet), trainingLabels, 1000)\n",
    "    errorCount = 0\n",
    "    numTestVec = 0.0\n",
    "    # 导入测试集并计算分类错误率\n",
    "    for line in frTest.readlines():\n",
    "        numTestVec += 1.0\n",
    "        currLine = line.strip().split('\\t')\n",
    "        lineArr =[]\n",
    "        for i in range(21):\n",
    "            lineArr.append(float(currLine[i]))\n",
    "        if int(classifyVector(np.array(lineArr), trainWeights))!= int(currLine[21]):\n",
    "            errorCount += 1\n",
    "    errorRate = (float(errorCount)/numTestVec)\n",
    "    print (\"the error rate of this test is: %f\" % errorRate)\n",
    "    return errorRate"
   ]
  },
  {
   "cell_type": "code",
   "execution_count": 182,
   "metadata": {},
   "outputs": [],
   "source": [
    "def multiTest():\n",
    "    \"\"\"\n",
    "    调用colicTest()函数10次并求结果的平均值\n",
    "    :return:\n",
    "    \"\"\"\n",
    "    numTests = 10\n",
    "    errorSum=0.0\n",
    "    for k in range(numTests):\n",
    "        errorSum += colicTest()\n",
    "    print (\"after %d iterations the average error rate is: %f\" % (numTests, errorSum/float(numTests)))"
   ]
  },
  {
   "cell_type": "code",
   "execution_count": 183,
   "metadata": {},
   "outputs": [
    {
     "name": "stdout",
     "output_type": "stream",
     "text": [
      "the error rate of this test is: 0.268657\n",
      "the error rate of this test is: 0.417910\n",
      "the error rate of this test is: 0.417910\n",
      "the error rate of this test is: 0.343284\n",
      "the error rate of this test is: 0.328358\n",
      "the error rate of this test is: 0.328358\n",
      "the error rate of this test is: 0.313433\n",
      "the error rate of this test is: 0.358209\n",
      "the error rate of this test is: 0.388060\n",
      "the error rate of this test is: 0.298507\n",
      "after 10 iterations the average error rate is: 0.346269\n"
     ]
    }
   ],
   "source": [
    "multiTest()"
   ]
  },
  {
   "cell_type": "markdown",
   "metadata": {},
   "source": [
    "从结果看,10次迭代之后的平均错误率为35%。事实上这个结果并不差，因为有30%的数据缺失。当然，可以调整colicTest()zhon"
   ]
  }
 ],
 "metadata": {
  "kernelspec": {
   "display_name": "Python 3",
   "language": "python",
   "name": "python3"
  },
  "language_info": {
   "codemirror_mode": {
    "name": "ipython",
    "version": 3
   },
   "file_extension": ".py",
   "mimetype": "text/x-python",
   "name": "python",
   "nbconvert_exporter": "python",
   "pygments_lexer": "ipython3",
   "version": "3.6.5"
  }
 },
 "nbformat": 4,
 "nbformat_minor": 2
}
