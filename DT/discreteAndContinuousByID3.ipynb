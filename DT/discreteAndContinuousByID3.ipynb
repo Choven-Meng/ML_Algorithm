{
 "cells": [
  {
   "cell_type": "code",
   "execution_count": 1,
   "metadata": {},
   "outputs": [],
   "source": [
    "import pandas as pd \n",
    "import numpy as np\n",
    "from math import *"
   ]
  },
  {
   "cell_type": "code",
   "execution_count": 2,
   "metadata": {},
   "outputs": [],
   "source": [
    "def createDataSet():\n",
    "    data = pd.read_excel(\"C:\\\\Users\\\\ms\\\\Desktop\\\\watermelon.xlsx\",sheet_name=\"Sheet1\" )\n",
    "    # 删除多余没有优化的列\n",
    "    data = data.drop('编号',axis=1)\n",
    "    #标签\n",
    "    labels = list(data.columns)\n",
    "    #数据集\n",
    "    dataSet = data.values\n",
    "    return dataSet, labels"
   ]
  },
  {
   "cell_type": "code",
   "execution_count": 3,
   "metadata": {},
   "outputs": [
    {
     "name": "stdout",
     "output_type": "stream",
     "text": [
      "[['青绿' '蜷缩' '浊响' '清晰' '凹陷' '硬滑' 0.697 0.46 '是']\n",
      " ['乌黑' '蜷缩' '浊闷' '清晰' '凹陷' '硬滑' 0.774 0.376 '是']\n",
      " ['乌黑' '蜷缩' '浊响' '清晰' '凹陷' '硬滑' 0.634 0.264 '是']\n",
      " ['青绿' '蜷缩' '浊闷' '清晰' '凹陷' '硬滑' 0.608 0.318 '是']\n",
      " ['浅白' '蜷缩' '浊响' '清晰' '凹陷' '硬滑' 0.556 0.215 '是']\n",
      " ['青绿' '稍蜷' '浊响' '清晰' '稍凹' '软粘' 0.403 0.237 '是']\n",
      " ['乌黑' '稍蜷' '浊响' '稍糊' '稍凹' '软粘' 0.481 0.149 '是']\n",
      " ['乌黑' '稍蜷' '浊响' '清晰' '稍凹' '硬滑' 0.437 0.211 '是']\n",
      " ['乌黑' '稍蜷' '浊闷' '稍糊' '稍凹' '硬滑' 0.666 0.091 '否']\n",
      " ['青绿' '硬挺' '清脆' '清晰' '平坦' '软粘' 0.243 0.267 '否']\n",
      " ['浅白' '硬挺' '清脆' '模糊' '平坦' '硬滑' 0.245 0.057 '否']\n",
      " ['浅白' '蜷缩' '浊响' '模糊' '平坦' '软粘' 0.343 0.099 '否']\n",
      " ['青绿' '稍蜷' '浊响' '稍糊' '凹陷' '硬滑' 0.639 0.161 '否']\n",
      " ['浅白' '稍蜷' '沉闷' '稍糊' '凹陷' '硬滑' 0.657 0.198 '否']\n",
      " ['乌黑' '稍蜷' '浊响' '清晰' '稍凹' '软粘' 0.36 0.37 '否']\n",
      " ['浅白' '蜷缩' '浊响' '模糊' '平坦' '硬滑' 0.593 0.042 '否']\n",
      " ['青绿' '蜷缩' '沉闷' '稍糊' '稍凹' '硬滑' 0.719 0.103 '否']]\n",
      "###############################################################\n",
      "['色泽', '根蒂', '敲声', '纹理', '脐部', '触感', '密度', '含糖率', '好瓜']\n"
     ]
    }
   ],
   "source": [
    "# 测试\n",
    "# dataSet 中每一列是一个属性\n",
    "dataSet, labels = createDataSet()\n",
    "print(dataSet)\n",
    "print('###############################################################')\n",
    "print(labels)"
   ]
  },
  {
   "cell_type": "markdown",
   "metadata": {},
   "source": [
    "##  计算信息熵"
   ]
  },
  {
   "cell_type": "code",
   "execution_count": 4,
   "metadata": {},
   "outputs": [],
   "source": [
    "def calcInfoEnt(dataSet):\n",
    "    numEntries = len(dataSet)\n",
    "    labelCounts = {}    # 给所有可能的分类创建字典\n",
    "    for featVec in dataSet:    # 循环遍历行\n",
    "        currentLabel = featVec[-1]    # 每行的最后一个元素\n",
    "        if currentLabel not in labelCounts.keys():\n",
    "            labelCounts[currentLabel] = 0 # 如果当前label不在字典中赋值0创建 \n",
    "        labelCounts[currentLabel] += 1 # 统计label个数，此行不受if语句影响；当前加else时，受if影响，上一句labelCounts应赋值1\n",
    "    InfoEnt = 0.0\n",
    "    for key in labelCounts:\n",
    "        prob = float(labelCounts[key]) / numEntries\n",
    "        # 以2为底计算信息熵，ID3用的信息增益公式。\n",
    "        InfoEnt -= prob * log(prob,2)\n",
    "    return InfoEnt"
   ]
  },
  {
   "cell_type": "code",
   "execution_count": 5,
   "metadata": {},
   "outputs": [
    {
     "data": {
      "text/plain": [
       "0.9975025463691153"
      ]
     },
     "execution_count": 5,
     "metadata": {},
     "output_type": "execute_result"
    }
   ],
   "source": [
    "# 测试 \n",
    "calcInfoEnt(dataSet)"
   ]
  },
  {
   "cell_type": "markdown",
   "metadata": {},
   "source": [
    "## 根据特征分割数据集"
   ]
  },
  {
   "cell_type": "markdown",
   "metadata": {},
   "source": [
    "####   1、对离散变量划分数据集，取出该特征取值为value的所有样本  "
   ]
  },
  {
   "cell_type": "code",
   "execution_count": 6,
   "metadata": {},
   "outputs": [],
   "source": [
    "def splitDiscreteDataSet(dataSet,axis,value):\n",
    "    \"\"\"\n",
    "    :param dataSet: 当前结点(待划分)集合\n",
    "    :param axis:划分数据集的特征的维度\n",
    "    :param value:特征的值\n",
    "    :return: 符合该特征的所有实例（并且自动移除掉这维特征）\n",
    "    \"\"\"\n",
    "    # 循环遍历dataSet中的每一行数据\n",
    "    retDataSet = []\n",
    "    for featVec in dataSet:\n",
    "        # 判断axis列的值\n",
    "        if featVec[axis] == value:\n",
    "            reduceFeatVec = list(featVec[:axis]) # 删除这一维值为value的特征\n",
    "            reduceFeatVec.extend(featVec[axis+1:])\n",
    "            retDataSet.append(reduceFeatVec) \n",
    "            # 此处得到的子集特征数比划分前少1，少了那个用来划分的数据\n",
    "    return retDataSet"
   ]
  },
  {
   "cell_type": "code",
   "execution_count": 7,
   "metadata": {},
   "outputs": [
    {
     "data": {
      "text/plain": [
       "[['蜷缩', '浊响', '清晰', '凹陷', '硬滑', 0.697, 0.46, '是'],\n",
       " ['蜷缩', '浊闷', '清晰', '凹陷', '硬滑', 0.608, 0.318, '是'],\n",
       " ['稍蜷', '浊响', '清晰', '稍凹', '软粘', 0.403, 0.237, '是'],\n",
       " ['硬挺', '清脆', '清晰', '平坦', '软粘', 0.243, 0.267, '否'],\n",
       " ['稍蜷', '浊响', '稍糊', '凹陷', '硬滑', 0.639, 0.161, '否'],\n",
       " ['蜷缩', '沉闷', '稍糊', '稍凹', '硬滑', 0.719, 0.103, '否']]"
      ]
     },
     "execution_count": 7,
     "metadata": {},
     "output_type": "execute_result"
    }
   ],
   "source": [
    "# 测试一个离散属性\n",
    "\n",
    "# 返回第1列色泽为青绿的所有集合\n",
    "splitDiscreteDataSet(dataSet,0,'青绿')"
   ]
  },
  {
   "cell_type": "markdown",
   "metadata": {},
   "source": [
    "####  2、 对连续变量划分数据集  "
   ]
  },
  {
   "cell_type": "code",
   "execution_count": 8,
   "metadata": {},
   "outputs": [],
   "source": [
    "# 方案一\n",
    "\n",
    "# 按照给定的value，在给定的维度axis上划分为两个数据集\n",
    "def splitContinuousDataSet(dataSet, axis, value): \n",
    "    retDataSetG=[] #将储存取值大于value的样本\n",
    "    retDataSetL=[] #将储存取值小于value的样本  \n",
    "    for featVec in dataSet:  \n",
    "        if featVec[axis]>value:  \n",
    "            reducedFeatVecG=list(featVec[:axis])\n",
    "            reducedFeatVecG.extend(featVec[axis+1:])  \n",
    "            retDataSetG.append(reducedFeatVecG)\n",
    "        else:\n",
    "            reducedFeatVecL=list(featVec[:axis])\n",
    "            reducedFeatVecL.extend(featVec[axis+1:])  \n",
    "            retDataSetL.append(reducedFeatVecL)\n",
    "    return retDataSetG,retDataSetL #返回两个集合"
   ]
  },
  {
   "cell_type": "code",
   "execution_count": 9,
   "metadata": {},
   "outputs": [
    {
     "data": {
      "text/plain": [
       "[['青绿', '蜷缩', '浊响', '清晰', '凹陷', '硬滑', 0.46, '是'],\n",
       " ['乌黑', '蜷缩', '浊闷', '清晰', '凹陷', '硬滑', 0.376, '是'],\n",
       " ['乌黑', '蜷缩', '浊响', '清晰', '凹陷', '硬滑', 0.264, '是'],\n",
       " ['青绿', '蜷缩', '浊闷', '清晰', '凹陷', '硬滑', 0.318, '是'],\n",
       " ['浅白', '蜷缩', '浊响', '清晰', '凹陷', '硬滑', 0.215, '是'],\n",
       " ['乌黑', '稍蜷', '浊闷', '稍糊', '稍凹', '硬滑', 0.091, '否'],\n",
       " ['青绿', '稍蜷', '浊响', '稍糊', '凹陷', '硬滑', 0.161, '否'],\n",
       " ['浅白', '稍蜷', '沉闷', '稍糊', '凹陷', '硬滑', 0.198, '否'],\n",
       " ['浅白', '蜷缩', '浊响', '模糊', '平坦', '硬滑', 0.042, '否'],\n",
       " ['青绿', '蜷缩', '沉闷', '稍糊', '稍凹', '硬滑', 0.103, '否']]"
      ]
     },
     "execution_count": 9,
     "metadata": {},
     "output_type": "execute_result"
    }
   ],
   "source": [
    "# 测试连续属性\n",
    "a=splitContinuousDataSet(dataSet,6,0.5)\n",
    "a[0]"
   ]
  },
  {
   "cell_type": "code",
   "execution_count": 10,
   "metadata": {},
   "outputs": [],
   "source": [
    "# 方案二\n",
    "\n",
    "# 按照指定的方向划分数据集\n",
    "def splitContinuousDataSet2(dataSet, axis, value, direction): \n",
    "    '''\n",
    "    direction规定划分的方向\n",
    "    '''\n",
    "    retDataSet = []  \n",
    "    for featVec in dataSet:  \n",
    "        if direction == 0:  \n",
    "            if featVec[axis] > value:  \n",
    "                retDataSet.append(list(featVec[:axis]) + list(featVec[axis + 1:]))  \n",
    "        else:  \n",
    "            if featVec[axis] <= value:  \n",
    "                retDataSet.append(list(featVec[:axis]) + list(featVec[axis + 1:]))  \n",
    "    return retDataSet  \n"
   ]
  },
  {
   "cell_type": "code",
   "execution_count": 11,
   "metadata": {},
   "outputs": [
    {
     "data": {
      "text/plain": [
       "[['青绿', '稍蜷', '浊响', '清晰', '稍凹', '软粘', 0.237, '是'],\n",
       " ['乌黑', '稍蜷', '浊响', '稍糊', '稍凹', '软粘', 0.149, '是'],\n",
       " ['乌黑', '稍蜷', '浊响', '清晰', '稍凹', '硬滑', 0.211, '是'],\n",
       " ['青绿', '硬挺', '清脆', '清晰', '平坦', '软粘', 0.267, '否'],\n",
       " ['浅白', '硬挺', '清脆', '模糊', '平坦', '硬滑', 0.057, '否'],\n",
       " ['浅白', '蜷缩', '浊响', '模糊', '平坦', '软粘', 0.099, '否'],\n",
       " ['乌黑', '稍蜷', '浊响', '清晰', '稍凹', '软粘', 0.37, '否']]"
      ]
     },
     "execution_count": 11,
     "metadata": {},
     "output_type": "execute_result"
    }
   ],
   "source": [
    "splitContinuousDataSet2(dataSet,6,0.5,1)"
   ]
  },
  {
   "cell_type": "markdown",
   "metadata": {},
   "source": [
    "#### 3、根据InfoGain选择当前最好的划分特征(以及对于连续变量还要选择以什么值划分)"
   ]
  },
  {
   "cell_type": "code",
   "execution_count": 12,
   "metadata": {},
   "outputs": [],
   "source": [
    "def chooseBestFeatureToSplit(dataSet,labels):\n",
    "    numFeatures = len(dataSet[0]) - 1\n",
    "    baseEntropy = calcInfoEnt(dataSet)\n",
    "    bestInfoGain = 0.0\n",
    "    bestFeature = -1\n",
    "    bestSplitDict = {}\n",
    "    for i in range(numFeatures):\n",
    "        # 取dataSet数据中每一行的第i个feature值\n",
    "        featList = [example[i] for example in dataSet]\n",
    "        # 判断是否为离散属性\n",
    "        if not (type(featList[0]).__name__ == 'float' or type(featList[0]).__name__ == 'int'):\n",
    "            # 当为离散属性时：\n",
    "            uniqueVals = set(featList)\n",
    "            newEntropy = 0.0\n",
    "            for value in uniqueVals:\n",
    "                subDataSet = splitDiscreteDataSet(dataSet,i,value)\n",
    "                prob = len(subDataSet) / float(len(dataSet))\n",
    "                newEntropy += prob * calcInfoEnt(subDataSet) # 各取值的熵累加\n",
    "            infoGain = baseEntropy - newEntropy # 得到以该特征划分的信息增益\n",
    "        else:\n",
    "            # 连续属性时：\n",
    "            \n",
    "            sortfeatList = sorted(featList)   # 把连续数据从小到大排序\n",
    "            splitList = []\n",
    "            # 产生n-1个候选划分点\n",
    "            for j in range(len(sortfeatList) - 1):\n",
    "                splitList.append((sortfeatList[j] + sortfeatList[j+1]) / 2.0)\n",
    "            # 设定一个很大的熵值（之后用）\n",
    "            bestSplitEntropy = 10000\n",
    "            # 遍历n-1个候选划分点：求选第j个候选划分点划分时的熵值，并选出最佳划分点\n",
    "            for j in range(len(splitList)):\n",
    "                value = splitList[j]\n",
    "                newEntropy = 0.0\n",
    "                DataSet = splitContinuousDataSet(dataSet,i,value)\n",
    "                subDataSetG = DataSet[0]\n",
    "                subDataSetL = DataSet[1]\n",
    "                \n",
    "                \n",
    "                probG = len(subDataSetG) / float(len(dataSet))\n",
    "                newEntropy += probG * calcInfoEnt(subDataSetG)\n",
    "                \n",
    "                probL = len(subDataSetL) / float(len(dataSet))\n",
    "                newEntropy += probL * calcInfoEnt(subDataSetL)\n",
    "                \n",
    "                #newEntropy = newEntropyG + newEntropyL\n",
    "                \n",
    "                if newEntropy <  bestSplitEntropy:                  \n",
    "                    bestSplitEntropy = newEntropy\n",
    "                    bestSplit = j\n",
    "            bestSplitDict[labels[i]] = splitList[bestSplit] #字典记录当前连续属性的最佳划分点\n",
    "            # 计算该结点划分的熵增\n",
    "            infoGain = baseEntropy - bestSplitEntropy\n",
    "        \n",
    "        # 在所有属性（包括连续和离散）中选择可以获得最大熵的属性\n",
    "        if infoGain > bestInfoGain:\n",
    "            bestInfoGain = infoGain\n",
    "            bestFeature = i\n",
    "        \n",
    "        # 若当前节点的最佳划分特征为连续特征，则需根据“是否小于等于其最佳划分点”进行二值化处理\n",
    "            #即将该特征改为“是否小于等于bestSplitValue”, 例如将“密度”变为“密度<=0.3815”\n",
    "    if type(dataSet[0][bestFeature]).__name__ == 'float' or type(dataSet[0][bestFeature]).__name__ == 'int' :\n",
    "        bestSplitValue = bestSplitDict[labels[bestFeature]]\n",
    "        labels[bestFeature] = labels[bestFeature] + '<=' + str(bestSplitValue)\n",
    "            \n",
    "        # 遍历dataset数据集的行\n",
    "        #注意：以下这段直接操作了原dataSet数据, 之前的那些float型的值相应变为0和1\n",
    "          #【为何这样做?】在函数createTree()末尾将看到解释\n",
    "        for i in range(np.array(dataSet).shape[0]):\n",
    "            if dataSet[i][bestFeature] <= bestSplitValue:\n",
    "                dataSet[i][bestFeature] = 1\n",
    "            else:\n",
    "                dataSet[i][bestFeature] = 0\n",
    "    return bestFeature\n",
    "                \n",
    "            \n",
    "            "
   ]
  },
  {
   "cell_type": "code",
   "execution_count": 13,
   "metadata": {},
   "outputs": [
    {
     "data": {
      "text/plain": [
       "3"
      ]
     },
     "execution_count": 13,
     "metadata": {},
     "output_type": "execute_result"
    }
   ],
   "source": [
    "# 测试 \n",
    "chooseBestFeatureToSplit(dataSet,labels)"
   ]
  },
  {
   "cell_type": "markdown",
   "metadata": {},
   "source": [
    "#### 投票计数选择"
   ]
  },
  {
   "cell_type": "code",
   "execution_count": 14,
   "metadata": {},
   "outputs": [],
   "source": [
    "import operator\n",
    "def majorityCnt(classList):\n",
    "    \"\"\"\n",
    "    这个函数的作用是返回字典中出现次数最多的value对应的key，也就是输入list中出现最多的那个值\n",
    "    return: 类别列表中多数的类，即多数表决\n",
    "    \"\"\"\n",
    "    classCount={}\n",
    "    for vote in classList:\n",
    "        if vote not in classCount.keys(): \n",
    "            classCount[vote] = 0\n",
    "        classCount[vote] += 1\n",
    "    # 字典按照value排序 \n",
    "    sortedClassCount = sorted(classCount.items(), key=operator.itemgetter(1), reverse=True)\n",
    " \n",
    "    return sortedClassCount[0][0]   # 返回字典第一项的key值\n"
   ]
  },
  {
   "cell_type": "markdown",
   "metadata": {},
   "source": [
    "## 主程序：递归产生决策树"
   ]
  },
  {
   "cell_type": "code",
   "execution_count": 15,
   "metadata": {},
   "outputs": [],
   "source": [
    "\n",
    "def createTree(dataSet,labels,data_full,labels_full):\n",
    "    '''\n",
    "    # dataSet：当前用于构建树的数据集, 最开始就是data_full，然后随着划分的进行越来越小。\n",
    "    # 这是因为进行到到树分叉点上了. 第一次划分之前17个瓜的数据在根节点，然后选择第一个bestFeat是纹理. \n",
    "    纹理的取值有清晰、模糊、稍糊三种；将瓜分成了清晰（9个），稍糊（5个），模糊（3个）,这时应该将划分的类别减少1以便于下次划分。 \n",
    "    # labels：当前数据集中有的用于划分的类别(这是因为有些Label当前数据集没了, 比如假如到某个点上西瓜都是浅白没有深绿了)\n",
    "    # data_full：全部的数据 \n",
    "    # label_full:全部的类别 \n",
    "\n",
    "    '''\n",
    "    classList=[example[-1] for example in dataSet] \n",
    "    \n",
    "    #递归停止条件1：当前节点所有样本属于同一类；(注：count()方法统计某元素在列表中出现的次数)\n",
    "    if classList.count(classList[0])==len(classList):  \n",
    "        return classList[0]  \n",
    "    #递归停止条件2：所有可用于划分的特征均使用过了，则调用majorityCnt()投票定Label；\n",
    "    if len(dataSet[0])==1:  \n",
    "        return majorityCnt(classList) \n",
    "    #递归停止条件3：当前节点上样本集合为空集(即特征的某个取值上已经没有样本了)\n",
    "    if float(np.array(dataSet).shape[0])==0:  \n",
    "        return 'empty'\n",
    "    \n",
    "    #调用函数找出当前最佳划分特征是第几个\n",
    "    bestFeat=chooseBestFeatureToSplit(dataSet,labels)  \n",
    "    bestFeatLabel=labels[bestFeat]    #当前最佳划分特征\n",
    "    \n",
    "    # map 结构，且key为featureLabel\n",
    "    myTree={bestFeatLabel:{}}  \n",
    "    featValues=[example[bestFeat] for example in dataSet]  \n",
    "    uniqueVals=set(featValues)  \n",
    "    if type(dataSet[0][bestFeat]).__name__=='str':  \n",
    "        currentlabel=labels_full.index(labels[bestFeat])  \n",
    "        featValuesFull=[example[currentlabel] for example in data_full]  \n",
    "        uniqueValsFull=set(featValuesFull)  \n",
    "    #划分完后, 即当前特征已经使用过了, 故将其从“待划分特征集”中删去\n",
    "    del(labels[bestFeat])  \n",
    "    # 递归调用，针对当前划分的bestFeat的每个取值，划分出一个子树。  \n",
    "    for value in uniqueVals:  #遍历该特征【现存的】取值\n",
    "        subLabels=labels[:]  \n",
    "        if type(dataSet[0][bestFeat]).__name__=='str':  \n",
    "            uniqueValsFull.remove(value)   #划分后删去(从uniqueValsFull中删!)\n",
    "        myTree[bestFeatLabel][value]=createTree(splitDiscreteDataSet(dataSet,bestFeat,value),subLabels,data_full,labels_full)  \n",
    "    # 若该特征为离散\n",
    "    if type(dataSet[0][bestFeat]).__name__=='str':  \n",
    "        for value in uniqueValsFull: \n",
    "            #则可能有些取值已经不在【现存的】取值中了\n",
    "            #这就是上面为何从“uniqueValsFull”中删去\n",
    "            #因为那些现有数据集中没取到的该特征的值，保留在了其中\n",
    "            myTree[bestFeatLabel][value]=majorityCnt(classList)  \n",
    "    return myTree  \n"
   ]
  },
  {
   "cell_type": "markdown",
   "metadata": {},
   "source": [
    "### 获得数据集"
   ]
  },
  {
   "cell_type": "code",
   "execution_count": 16,
   "metadata": {},
   "outputs": [],
   "source": [
    "df = pd.read_excel(\"C:\\\\Users\\\\ms\\\\Desktop\\\\watermelon.xlsx\",sheet_name=\"Sheet1\" )\n",
    "# 删除多余没有优化的列\n",
    "df = df.drop('编号',axis=1)\n",
    "#标签\n",
    "labels = list(df.columns)\n",
    "#数据集\n",
    "data = df.values\n",
    "\n",
    "labels_full=labels.copy()\n",
    "data_full=data.copy()"
   ]
  },
  {
   "cell_type": "code",
   "execution_count": 18,
   "metadata": {},
   "outputs": [
    {
     "data": {
      "text/plain": [
       "{'纹理': {'模糊': '否',\n",
       "  '清晰': {'密度<=0.3815': {0: '是', 1: '否'}},\n",
       "  '稍糊': {'触感': {'硬滑': '否', '软粘': '是'}}}}"
      ]
     },
     "execution_count": 18,
     "metadata": {},
     "output_type": "execute_result"
    }
   ],
   "source": [
    "myTree=createTree(data,labels,data_full,labels_full)\n",
    "myTree"
   ]
  },
  {
   "cell_type": "code",
   "execution_count": 19,
   "metadata": {},
   "outputs": [],
   "source": [
    "import matplotlib.pyplot as plt\n",
    "\n",
    "'''\n",
    "绘制决策树的函数\n",
    "'''\n",
    "\n",
    "# 定义文本框和箭头格式\n",
    "decisionNode = dict(boxstyle=\"round4\", color='#3366FF')  #定义判断结点形态\n",
    "leafNode = dict(boxstyle=\"circle\", color='#FF6633')  #定义叶结点形态\n",
    "arrow_args = dict(arrowstyle=\"<-\", color='g')  #定义箭头\n",
    "\n",
    "#绘制带箭头的注释\n",
    "def plotNode(nodeTxt, centerPt, parentPt, nodeType):\n",
    "    createPlot.ax1.annotate(nodeTxt, xy=parentPt, xycoords='axes fraction',\n",
    "                            xytext=centerPt, textcoords='axes fraction',\n",
    "                            va=\"center\", ha=\"center\", bbox=nodeType, arrowprops=arrow_args)\n",
    "\n",
    "\n",
    "#计算叶结点数\n",
    "def getNumLeafs(myTree):\n",
    "    numLeafs = 0\n",
    "    firstStr = list(myTree.keys())[0]    # 'dict_keys' object does not support indexing\n",
    "    secondDict = myTree[firstStr]\n",
    "    for key in secondDict.keys():\n",
    "        #测试节点的数据是否为字典，以此判断是否为叶节点\n",
    "        if type(secondDict[key]).__name__ == 'dict':\n",
    "            numLeafs += getNumLeafs(secondDict[key])\n",
    "        else:\n",
    "            numLeafs += 1\n",
    "    return numLeafs\n",
    "\n",
    "\n",
    "#计算树的最大深度(层数)\n",
    "def getTreeDepth(myTree):\n",
    "    maxDepth = 0\n",
    "    firstStr = list(myTree.keys())[0]   # 'dict_keys' object does not support indexing\n",
    "    secondDict = myTree[firstStr]\n",
    "    for key in secondDict.keys():\n",
    "        #测试节点的数据是否为字典，以此判断是否为叶节点\n",
    "        if type(secondDict[key]).__name__ == 'dict':\n",
    "            thisDepth = 1 + getTreeDepth(secondDict[key])\n",
    "        else:\n",
    "            thisDepth = 1\n",
    "        if thisDepth > maxDepth:\n",
    "            maxDepth = thisDepth\n",
    "    return maxDepth\n",
    "\n",
    "\n",
    "#在父子结点间填充文本信息\n",
    "#标签头上的文字\n",
    "def plotMidText(cntrPt, parentPt, txtString):\n",
    "    xMid = (parentPt[0] - cntrPt[0]) / 2.0 + cntrPt[0]\n",
    "    yMid = (parentPt[1] - cntrPt[1]) / 2.0 + cntrPt[1]\n",
    "    createPlot.ax1.text(xMid, yMid, txtString, va=\"center\", ha=\"center\", rotation=30)\n",
    "\n",
    "\n",
    "def plotTree(myTree, parentPt, nodeTxt):\n",
    "    numLeafs = getNumLeafs(myTree)\n",
    "    depth = getTreeDepth(myTree)\n",
    "    firstStr = list(myTree.keys())[0]\n",
    "    cntrPt = (plotTree.xOff + (1.0 + float(numLeafs)) / 2.0 / plotTree.totalW, plotTree.yOff)\n",
    "    plotMidText(cntrPt, parentPt, nodeTxt)  #在父子结点间填充文本信息\n",
    "    plotNode(firstStr, cntrPt, parentPt, decisionNode)  #绘制带箭头的注释\n",
    "    secondDict = myTree[firstStr]\n",
    "    plotTree.yOff = plotTree.yOff - 1.0 / plotTree.totalD\n",
    "    for key in secondDict.keys():\n",
    "        if type(secondDict[key]).__name__ == 'dict':\n",
    "            plotTree(secondDict[key], cntrPt, str(key))\n",
    "        else:\n",
    "            plotTree.xOff = plotTree.xOff + 1.0 / plotTree.totalW\n",
    "            plotNode(secondDict[key], (plotTree.xOff, plotTree.yOff), cntrPt, leafNode)\n",
    "            plotMidText((plotTree.xOff, plotTree.yOff), cntrPt, str(key))\n",
    "    plotTree.yOff = plotTree.yOff + 1.0 / plotTree.totalD\n",
    "\n",
    "\n",
    "def createPlot(inTree):\n",
    "    fig = plt.figure(1, facecolor='white')\n",
    "    fig.clf()\n",
    "    axprops = dict(xticks=[], yticks=[])\n",
    "    createPlot.ax1 = plt.subplot(111, frameon=False, **axprops)\n",
    "    plotTree.totalW = float(getNumLeafs(inTree))\n",
    "    plotTree.totalD = float(getTreeDepth(inTree))\n",
    "    plotTree.xOff = -0.5 / plotTree.totalW;\n",
    "    plotTree.yOff = 1.0;\n",
    "    plotTree(inTree, (0.5, 1.0), '')\n",
    "    plt.show()"
   ]
  },
  {
   "cell_type": "code",
   "execution_count": 20,
   "metadata": {},
   "outputs": [
    {
     "data": {
      "image/png": "[encoded data removed]",
      "text/plain": [
       "<Figure size 432x288 with 1 Axes>"
      ]
     },
     "metadata": {},
     "output_type": "display_data"
    }
   ],
   "source": [
    "plt.rcParams['font.sans-serif'] = ['SimHei']  # 指定默认字体\n",
    "plt.rcParams['axes.unicode_minus'] = False  # 解决保存图像时负号'-'显示为方块的问题\n",
    "##################################\n",
    "\n",
    "# 绘制ID3决策树\n",
    "createPlot(myTree)"
   ]
  },
  {
   "cell_type": "code",
   "execution_count": null,
   "metadata": {},
   "outputs": [],
   "source": []
  }
 ],
 "metadata": {
  "kernelspec": {
   "display_name": "Python 3",
   "language": "python",
   "name": "python3"
  },
  "language_info": {
   "codemirror_mode": {
    "name": "ipython",
    "version": 3
   },
   "file_extension": ".py",
   "mimetype": "text/x-python",
   "name": "python",
   "nbconvert_exporter": "python",
   "pygments_lexer": "ipython3",
   "version": "3.6.5"
  }
 },
 "nbformat": 4,
 "nbformat_minor": 2
}
