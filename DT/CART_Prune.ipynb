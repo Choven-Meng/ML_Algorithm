{
 "cells": [
  {
   "cell_type": "code",
   "execution_count": 42,
   "metadata": {},
   "outputs": [],
   "source": [
    "import numpy as np"
   ]
  },
  {
   "cell_type": "code",
   "execution_count": 43,
   "metadata": {},
   "outputs": [],
   "source": [
    "def loadDataSet(fileName):      # general function to parse tab -delimited floats\n",
    "    dataMat = []                # assume last column is target value\n",
    "    fr = open(fileName)\n",
    "    for line in fr.readlines():\n",
    "        curLine = line.strip().split('\\t')\n",
    "        fltLine = list(map(float,curLine)) # map all elements to float()\n",
    "        dataMat.append(fltLine)\n",
    "    return dataMat"
   ]
  },
  {
   "cell_type": "code",
   "execution_count": 44,
   "metadata": {},
   "outputs": [],
   "source": [
    "def binSplitDataSet(dataSet, feature, value):\n",
    "    \"\"\"\n",
    "    :param dataSet: 数据集合\n",
    "    :param feature: 待切分的特征\n",
    "    :param value:  该特征的某个值\n",
    "    :return:\n",
    "    \"\"\"\n",
    "    # 通过数组过滤方式将上述数据集合切分得到两个子集并返回\n",
    "    mat0 = dataSet[np.nonzero(dataSet[:,feature] > value)[0],:]\n",
    "    # np.nonzero函数是numpy中用于得到数组中非零元素的位置（数组索引）的函数。\n",
    "    mat1 = dataSet[np.nonzero(dataSet[:,feature] <= value)[0],:] \n",
    "    return mat0,mat1"
   ]
  },
  {
   "cell_type": "code",
   "execution_count": 45,
   "metadata": {},
   "outputs": [
    {
     "name": "stdout",
     "output_type": "stream",
     "text": [
      "dataSet: [[1. 0. 0. 0.]\n",
      " [0. 1. 0. 0.]\n",
      " [0. 0. 1. 0.]\n",
      " [0. 0. 0. 1.]]\n",
      "data0:  [[0. 1. 0. 0.]]\n",
      "data1:  [[1. 0. 0. 0.]\n",
      " [0. 0. 1. 0.]\n",
      " [0. 0. 0. 1.]]\n"
     ]
    }
   ],
   "source": [
    "# test\n",
    "\n",
    "dataSet = np.mat(np.eye(4)) # 产生一个对角矩阵\n",
    "print(\"dataSet:\",dataSet)\n",
    "data0, data1 = binSplitDataSet(dataSet,1,0.5)\n",
    "print(\"data0: \",data0)\n",
    "print(\"data1: \",data1)"
   ]
  },
  {
   "cell_type": "markdown",
   "metadata": {},
   "source": [
    "## 回归树"
   ]
  },
  {
   "cell_type": "code",
   "execution_count": 46,
   "metadata": {},
   "outputs": [],
   "source": [
    "# 生成叶结点\n",
    "def regLeaf(dataSet):\n",
    "    return np.mean(dataSet[:,-1])"
   ]
  },
  {
   "cell_type": "code",
   "execution_count": 47,
   "metadata": {},
   "outputs": [
    {
     "data": {
      "text/plain": [
       "0.25"
      ]
     },
     "execution_count": 47,
     "metadata": {},
     "output_type": "execute_result"
    }
   ],
   "source": [
    "# test\n",
    "regLeaf(dataSet)"
   ]
  },
  {
   "cell_type": "code",
   "execution_count": 48,
   "metadata": {},
   "outputs": [],
   "source": [
    "# 误差估计函数\n",
    "def regErr(dataSet):\n",
    "    \"\"\"\n",
    "    :return: 总方差 = 均方差var * 样本个数\n",
    "    \"\"\"\n",
    "    # 在给定数据上计算目标变量的平方误差\n",
    "    return np.var(dataSet[:,-1]) * np.array(dataSet).shape[0]"
   ]
  },
  {
   "cell_type": "code",
   "execution_count": 49,
   "metadata": {},
   "outputs": [
    {
     "data": {
      "text/plain": [
       "0.75"
      ]
     },
     "execution_count": 49,
     "metadata": {},
     "output_type": "execute_result"
    }
   ],
   "source": [
    "# test\n",
    "regErr(dataSet)"
   ]
  },
  {
   "cell_type": "code",
   "execution_count": 50,
   "metadata": {},
   "outputs": [],
   "source": [
    "# 找到数据集上最佳的二元切分方式。若找不到则返回None并产生叶结点\n",
    "def chooseBestSplit(dataSet, leafType=regLeaf, errType=regErr, ops=(1,4)):\n",
    "    \"\"\"\n",
    "    :param leafType: 对创建叶结点的函数的引用\n",
    "    :param errType:  对总方差计算函数的引用\n",
    "    :param ops:  自定义的参数元组，用于控制函数的停止时机\n",
    "    :return:  最佳切分的特征和特征值\n",
    "    \"\"\"\n",
    "    tolS = ops[0]   # 容许的误差下降值\n",
    "    tolN = ops[1]   # 切分的最小样本数\n",
    "\n",
    "    # 递归停止条件1：当前节点所有样本属于同一类；\n",
    "    if len(set(dataSet[:,-1].T.tolist()[0])) == 1:\n",
    "        return None, leafType(dataSet)\n",
    "\n",
    "    m,n = np.array(dataSet).shape\n",
    "    #the choice of the best feature is driven by Reduction in RSS error from mean\n",
    "    S = errType(dataSet)    # 与新切分误差对比，检查新切分能否降低误差\n",
    "    bestS = np.inf; bestIndex = 0; bestValue = 0\n",
    "    for featIndex in range(n-1):    # 对每个特征\n",
    "        for splitVal in set(dataSet[:,featIndex].T.tolist()[0]):  # 对每个特征值\n",
    "            mat0, mat1 = binSplitDataSet(dataSet, featIndex, splitVal)  # 将数据集切分两份\n",
    "            if (np.array(mat0).shape[0] < tolN) or (np.array(mat1).shape[0] < tolN):\n",
    "                continue\n",
    "            newS = errType(mat0) + errType(mat1)\n",
    "            if newS < bestS:  # 如果当前误差小于当前最小误差，将当前切分设定为最佳切分并更新最小误差\n",
    "                bestIndex = featIndex\n",
    "                bestValue = splitVal\n",
    "                bestS = newS\n",
    "\n",
    "    # 递归停止条件二：如果切分数据集后效果提升不大\n",
    "    if (S - bestS) < tolS: \n",
    "        return None, leafType(dataSet)\n",
    "\n",
    "    mat0, mat1 = binSplitDataSet(dataSet, bestIndex, bestValue)\n",
    "    # 递归停止条件三：检查两个切分后子集的大小，若其中一个小于自定义的参数tolN，则停止\n",
    "    if (np.array(mat0).shape[0] < tolN) or (np.array(mat1).shape[0] < tolN):\n",
    "        return None, leafType(dataSet)\n",
    "\n",
    "    return bestIndex,bestValue#returns the best feature to split on\n",
    "                              #and the value used for that split"
   ]
  },
  {
   "cell_type": "code",
   "execution_count": 51,
   "metadata": {},
   "outputs": [],
   "source": [
    "def createTree(dataSet, leafType=regLeaf, errType=regErr, ops=(1,4)):#assume dataSet is NumPy Mat so we can array filtering\n",
    "    \"\"\"\n",
    "    :param leafType: 建立叶结点的函数\n",
    "    :param errType:  误差计算函数\n",
    "    # 回归树固定这两个参数，模型树需要修改。\n",
    "    :param ops: 包含树构建所需其他参数的元组\n",
    "    :return:\n",
    "    \"\"\"\n",
    "    feat, val = chooseBestSplit(dataSet, leafType, errType, ops)#choose the best split\n",
    "    # 满足停止条件返回叶结点的值\n",
    "    # 如果构建的是回归树，该模型是一个常数；如果是模型树，该模型是一个线性方程\n",
    "    if feat == None:\n",
    "        return val\n",
    "\n",
    "    # 不满足停止条件，创建新的字典将数据集分成两部分\n",
    "    retTree = {}\n",
    "    retTree['spInd'] = feat\n",
    "    retTree['spVal'] = val\n",
    "    lSet, rSet = binSplitDataSet(dataSet, feat, val)\n",
    "    retTree['left'] = createTree(lSet, leafType, errType, ops)\n",
    "    retTree['right'] = createTree(rSet, leafType, errType, ops)\n",
    "    return retTree  "
   ]
  },
  {
   "cell_type": "code",
   "execution_count": 52,
   "metadata": {},
   "outputs": [
    {
     "data": {
      "text/plain": [
       "{'spInd': 1,\n",
       " 'spVal': 0.39435,\n",
       " 'left': {'spInd': 1,\n",
       "  'spVal': 0.582002,\n",
       "  'left': {'spInd': 1,\n",
       "   'spVal': 0.797583,\n",
       "   'left': 3.9871632,\n",
       "   'right': 2.9836209534883724},\n",
       "  'right': 1.980035071428571},\n",
       " 'right': {'spInd': 1,\n",
       "  'spVal': 0.197834,\n",
       "  'left': 1.0289583666666666,\n",
       "  'right': -0.023838155555555553}}"
      ]
     },
     "execution_count": 52,
     "metadata": {},
     "output_type": "execute_result"
    }
   ],
   "source": [
    "# test\n",
    "myDat1 = loadDataSet('C:\\\\Users\\\\ms\\\\Desktop\\\\machinelearninginaction\\\\Ch09\\\\ex0.txt')\n",
    "myMat1 = np.mat(myDat1)\n",
    "createTree(myMat1)"
   ]
  },
  {
   "cell_type": "code",
   "execution_count": 53,
   "metadata": {},
   "outputs": [
    {
     "data": {
      "image/png": "[encoded data removed]",
      "text/plain": [
       "<Figure size 432x288 with 1 Axes>"
      ]
     },
     "metadata": {},
     "output_type": "display_data"
    }
   ],
   "source": [
    "# 绘图测试\n",
    "import matplotlib.pyplot as plt \n",
    "%matplotlib inline\n",
    "plt.plot(myMat1[:,1],myMat1[:,2],'ro') \n",
    "plt.show()"
   ]
  },
  {
   "cell_type": "code",
   "execution_count": 54,
   "metadata": {},
   "outputs": [],
   "source": [
    "def isTree(obj):\n",
    "    \"\"\"\n",
    "    测试输入变量是否是一棵树，即判断当前处理的节点是否是叶节点\n",
    "    :return:  布尔类型结果\n",
    "    \"\"\"\n",
    "    return (type(obj).__name__=='dict')"
   ]
  },
  {
   "cell_type": "code",
   "execution_count": 55,
   "metadata": {},
   "outputs": [],
   "source": [
    "def getMean(tree):\n",
    "    \"\"\"\n",
    "    从上往下遍历树直到叶结点为止，如果找到两个叶结点则返回它们平均值\n",
    "    :param tree:\n",
    "    :return: 对数进行塌陷处理，返回树平均值\n",
    "    \"\"\"\n",
    "    if isTree(tree['right']):\n",
    "        tree['right'] = getMean(tree['right'])\n",
    "    if isTree(tree['left']):\n",
    "        tree['left'] = getMean(tree['left'])\n",
    "    return (tree['left']+tree['right'])/2.0\n"
   ]
  },
  {
   "cell_type": "code",
   "execution_count": 56,
   "metadata": {},
   "outputs": [],
   "source": [
    "def prune(tree, testData):\n",
    "    \"\"\"\n",
    "\n",
    "    :param tree: 待剪枝的树\n",
    "    :param testData: 剪枝所需的测试数据\n",
    "    :return:\n",
    "    \"\"\"\n",
    "    # 测试集为空时对树塌陷处理\n",
    "    if np.array(testData).shape[0] == 0:\n",
    "        return getMean(tree)\n",
    "    # 假设发生过拟合，采用测试数据对树进行剪枝\n",
    "    if (isTree(tree['right']) or isTree(tree['left'])):#if the branches are not trees try to prune them\n",
    "        lSet, rSet = binSplitDataSet(testData, tree['spInd'], tree['spVal'])\n",
    "    if isTree(tree['left']):\n",
    "        tree['left'] = prune(tree['left'], lSet)\n",
    "    if isTree(tree['right']):\n",
    "        tree['right'] =  prune(tree['right'], rSet)\n",
    "    # 如果两个分支不是子树即是叶节点，进行合并\n",
    "    if not isTree(tree['left']) and not isTree(tree['right']):\n",
    "        lSet, rSet = binSplitDataSet(testData, tree['spInd'], tree['spVal'])\n",
    "        errorNoMerge = np.sum(np.power(lSet[:,-1] - tree['left'],2)) + np.sum(np.power(rSet[:,-1] - tree['right'],2))\n",
    "        treeMean = (tree['left']+tree['right'])/2.0\n",
    "        errorMerge = np.sum(np.power(testData[:,-1] - treeMean,2))\n",
    "        # 如果合并后误差比不合并小就进行合并\n",
    "        if errorMerge < errorNoMerge:\n",
    "            print (\"merging\")\n",
    "            return treeMean\n",
    "        else:\n",
    "            return tree\n",
    "    else:\n",
    "        return tree"
   ]
  },
  {
   "cell_type": "code",
   "execution_count": 57,
   "metadata": {},
   "outputs": [
    {
     "name": "stdout",
     "output_type": "stream",
     "text": [
      "merging\n",
      "merging\n",
      "merging\n",
      "merging\n",
      "merging\n",
      "merging\n",
      "merging\n",
      "merging\n",
      "merging\n",
      "merging\n",
      "merging\n",
      "merging\n",
      "merging\n",
      "merging\n",
      "merging\n",
      "merging\n",
      "merging\n",
      "merging\n",
      "merging\n",
      "merging\n",
      "merging\n",
      "merging\n",
      "merging\n",
      "merging\n",
      "merging\n",
      "merging\n",
      "merging\n",
      "merging\n",
      "merging\n",
      "merging\n",
      "merging\n",
      "merging\n",
      "merging\n",
      "merging\n",
      "merging\n",
      "merging\n",
      "merging\n",
      "merging\n",
      "merging\n",
      "merging\n",
      "merging\n",
      "merging\n",
      "merging\n",
      "merging\n"
     ]
    },
    {
     "data": {
      "text/plain": [
       "{'spInd': 0,\n",
       " 'spVal': 0.499171,\n",
       " 'left': {'spInd': 0,\n",
       "  'spVal': 0.729397,\n",
       "  'left': {'spInd': 0,\n",
       "   'spVal': 0.952833,\n",
       "   'left': {'spInd': 0,\n",
       "    'spVal': 0.965969,\n",
       "    'left': 92.5239915,\n",
       "    'right': {'spInd': 0,\n",
       "     'spVal': 0.956951,\n",
       "     'left': {'spInd': 0,\n",
       "      'spVal': 0.958512,\n",
       "      'left': {'spInd': 0,\n",
       "       'spVal': 0.960398,\n",
       "       'left': 112.386764,\n",
       "       'right': 123.559747},\n",
       "      'right': 135.837013},\n",
       "     'right': 111.2013225}},\n",
       "   'right': {'spInd': 0,\n",
       "    'spVal': 0.759504,\n",
       "    'left': {'spInd': 0,\n",
       "     'spVal': 0.763328,\n",
       "     'left': {'spInd': 0,\n",
       "      'spVal': 0.769043,\n",
       "      'left': {'spInd': 0,\n",
       "       'spVal': 0.790312,\n",
       "       'left': {'spInd': 0,\n",
       "        'spVal': 0.806158,\n",
       "        'left': {'spInd': 0,\n",
       "         'spVal': 0.815215,\n",
       "         'left': {'spInd': 0,\n",
       "          'spVal': 0.833026,\n",
       "          'left': {'spInd': 0,\n",
       "           'spVal': 0.841547,\n",
       "           'left': {'spInd': 0,\n",
       "            'spVal': 0.841625,\n",
       "            'left': {'spInd': 0,\n",
       "             'spVal': 0.944221,\n",
       "             'left': {'spInd': 0,\n",
       "              'spVal': 0.948822,\n",
       "              'left': 96.41885225,\n",
       "              'right': 69.318649},\n",
       "             'right': {'spInd': 0,\n",
       "              'spVal': 0.85497,\n",
       "              'left': {'spInd': 0,\n",
       "               'spVal': 0.936524,\n",
       "               'left': 110.03503850000001,\n",
       "               'right': {'spInd': 0,\n",
       "                'spVal': 0.934853,\n",
       "                'left': 65.548418,\n",
       "                'right': {'spInd': 0,\n",
       "                 'spVal': 0.925782,\n",
       "                 'left': 115.753994,\n",
       "                 'right': {'spInd': 0,\n",
       "                  'spVal': 0.910975,\n",
       "                  'left': {'spInd': 0,\n",
       "                   'spVal': 0.912161,\n",
       "                   'left': 94.3961145,\n",
       "                   'right': 85.005351},\n",
       "                  'right': {'spInd': 0,\n",
       "                   'spVal': 0.901444,\n",
       "                   'left': {'spInd': 0,\n",
       "                    'spVal': 0.908629,\n",
       "                    'left': 106.814667,\n",
       "                    'right': 118.513475},\n",
       "                   'right': {'spInd': 0,\n",
       "                    'spVal': 0.901421,\n",
       "                    'left': 87.300625,\n",
       "                    'right': {'spInd': 0,\n",
       "                     'spVal': 0.892999,\n",
       "                     'left': {'spInd': 0,\n",
       "                      'spVal': 0.900699,\n",
       "                      'left': 100.133819,\n",
       "                      'right': 108.094934},\n",
       "                     'right': {'spInd': 0,\n",
       "                      'spVal': 0.888426,\n",
       "                      'left': 82.436686,\n",
       "                      'right': {'spInd': 0,\n",
       "                       'spVal': 0.872199,\n",
       "                       'left': 98.54454949999999,\n",
       "                       'right': 106.16859550000001}}}}}}}}},\n",
       "              'right': {'spInd': 0,\n",
       "               'spVal': 0.84294,\n",
       "               'left': {'spInd': 0,\n",
       "                'spVal': 0.847219,\n",
       "                'left': 89.20993,\n",
       "                'right': 76.240984},\n",
       "               'right': 95.893131}}},\n",
       "            'right': 60.552308},\n",
       "           'right': 124.87935300000001},\n",
       "          'right': {'spInd': 0,\n",
       "           'spVal': 0.823848,\n",
       "           'left': 76.723835,\n",
       "           'right': {'spInd': 0,\n",
       "            'spVal': 0.819722,\n",
       "            'left': 59.342323,\n",
       "            'right': 70.054508}}},\n",
       "         'right': {'spInd': 0,\n",
       "          'spVal': 0.811602,\n",
       "          'left': 118.319942,\n",
       "          'right': {'spInd': 0,\n",
       "           'spVal': 0.811363,\n",
       "           'left': 99.841379,\n",
       "           'right': 112.981216}}},\n",
       "        'right': 73.49439925},\n",
       "       'right': {'spInd': 0,\n",
       "        'spVal': 0.786865,\n",
       "        'left': 114.4008695,\n",
       "        'right': 102.26514075}},\n",
       "      'right': 64.041941},\n",
       "     'right': 115.199195},\n",
       "    'right': 78.08564325}},\n",
       "  'right': {'spInd': 0,\n",
       "   'spVal': 0.640515,\n",
       "   'left': {'spInd': 0,\n",
       "    'spVal': 0.642373,\n",
       "    'left': {'spInd': 0,\n",
       "     'spVal': 0.642707,\n",
       "     'left': {'spInd': 0,\n",
       "      'spVal': 0.665329,\n",
       "      'left': {'spInd': 0,\n",
       "       'spVal': 0.706961,\n",
       "       'left': {'spInd': 0,\n",
       "        'spVal': 0.70889,\n",
       "        'left': {'spInd': 0,\n",
       "         'spVal': 0.716211,\n",
       "         'left': 110.90283,\n",
       "         'right': {'spInd': 0,\n",
       "          'spVal': 0.710234,\n",
       "          'left': 103.345308,\n",
       "          'right': 108.553919}},\n",
       "        'right': 135.416767},\n",
       "       'right': {'spInd': 0,\n",
       "        'spVal': 0.698472,\n",
       "        'left': {'spInd': 0,\n",
       "         'spVal': 0.69892,\n",
       "         'left': {'spInd': 0,\n",
       "          'spVal': 0.699873,\n",
       "          'left': {'spInd': 0,\n",
       "           'spVal': 0.70639,\n",
       "           'left': 106.180427,\n",
       "           'right': 105.062147},\n",
       "          'right': 115.586605},\n",
       "         'right': 92.470636},\n",
       "        'right': {'spInd': 0,\n",
       "         'spVal': 0.689099,\n",
       "         'left': 120.521925,\n",
       "         'right': {'spInd': 0,\n",
       "          'spVal': 0.666452,\n",
       "          'left': 101.91115275,\n",
       "          'right': 112.78136649999999}}}},\n",
       "      'right': {'spInd': 0,\n",
       "       'spVal': 0.661073,\n",
       "       'left': 121.980607,\n",
       "       'right': {'spInd': 0,\n",
       "        'spVal': 0.652462,\n",
       "        'left': 115.687524,\n",
       "        'right': 112.715799}}},\n",
       "     'right': 82.500766},\n",
       "    'right': 140.613941},\n",
       "   'right': {'spInd': 0,\n",
       "    'spVal': 0.613004,\n",
       "    'left': {'spInd': 0,\n",
       "     'spVal': 0.623909,\n",
       "     'left': {'spInd': 0,\n",
       "      'spVal': 0.628061,\n",
       "      'left': {'spInd': 0,\n",
       "       'spVal': 0.637999,\n",
       "       'left': 82.713621,\n",
       "       'right': {'spInd': 0,\n",
       "        'spVal': 0.632691,\n",
       "        'left': 91.656617,\n",
       "        'right': 93.645293}},\n",
       "      'right': {'spInd': 0,\n",
       "       'spVal': 0.624827,\n",
       "       'left': 117.628346,\n",
       "       'right': 105.970743}},\n",
       "     'right': 82.04976400000001},\n",
       "    'right': {'spInd': 0,\n",
       "     'spVal': 0.606417,\n",
       "     'left': 168.180746,\n",
       "     'right': {'spInd': 0,\n",
       "      'spVal': 0.513332,\n",
       "      'left': {'spInd': 0,\n",
       "       'spVal': 0.533511,\n",
       "       'left': {'spInd': 0,\n",
       "        'spVal': 0.548539,\n",
       "        'left': {'spInd': 0,\n",
       "         'spVal': 0.553797,\n",
       "         'left': {'spInd': 0,\n",
       "          'spVal': 0.560301,\n",
       "          'left': {'spInd': 0,\n",
       "           'spVal': 0.599142,\n",
       "           'left': 93.521396,\n",
       "           'right': {'spInd': 0,\n",
       "            'spVal': 0.589806,\n",
       "            'left': 130.378529,\n",
       "            'right': {'spInd': 0,\n",
       "             'spVal': 0.582311,\n",
       "             'left': 111.9849935,\n",
       "             'right': {'spInd': 0,\n",
       "              'spVal': 0.571214,\n",
       "              'left': 82.589328,\n",
       "              'right': {'spInd': 0,\n",
       "               'spVal': 0.569327,\n",
       "               'left': 114.872056,\n",
       "               'right': 108.435392}}}}},\n",
       "          'right': 82.903945},\n",
       "         'right': 129.0624485},\n",
       "        'right': {'spInd': 0,\n",
       "         'spVal': 0.546601,\n",
       "         'left': 83.114502,\n",
       "         'right': {'spInd': 0,\n",
       "          'spVal': 0.537834,\n",
       "          'left': 97.3405265,\n",
       "          'right': 90.995536}}},\n",
       "       'right': {'spInd': 0,\n",
       "        'spVal': 0.51915,\n",
       "        'left': {'spInd': 0,\n",
       "         'spVal': 0.531944,\n",
       "         'left': 129.766743,\n",
       "         'right': 124.795495},\n",
       "        'right': 116.176162}},\n",
       "      'right': {'spInd': 0,\n",
       "       'spVal': 0.508548,\n",
       "       'left': 101.075609,\n",
       "       'right': {'spInd': 0,\n",
       "        'spVal': 0.508542,\n",
       "        'left': 93.292829,\n",
       "        'right': 96.403373}}}}}}},\n",
       " 'right': {'spInd': 0,\n",
       "  'spVal': 0.457563,\n",
       "  'left': {'spInd': 0,\n",
       "   'spVal': 0.465561,\n",
       "   'left': {'spInd': 0,\n",
       "    'spVal': 0.467383,\n",
       "    'left': {'spInd': 0,\n",
       "     'spVal': 0.483803,\n",
       "     'left': {'spInd': 0,\n",
       "      'spVal': 0.487381,\n",
       "      'left': 8.53677,\n",
       "      'right': 27.729263},\n",
       "     'right': 5.224234},\n",
       "    'right': {'spInd': 0,\n",
       "     'spVal': 0.46568,\n",
       "     'left': -9.712925,\n",
       "     'right': -23.777531}},\n",
       "   'right': {'spInd': 0,\n",
       "    'spVal': 0.463241,\n",
       "    'left': 30.051931,\n",
       "    'right': 17.171057}},\n",
       "  'right': {'spInd': 0,\n",
       "   'spVal': 0.455761,\n",
       "   'left': -34.044555,\n",
       "   'right': {'spInd': 0,\n",
       "    'spVal': 0.126833,\n",
       "    'left': {'spInd': 0,\n",
       "     'spVal': 0.130626,\n",
       "     'left': {'spInd': 0,\n",
       "      'spVal': 0.382037,\n",
       "      'left': {'spInd': 0,\n",
       "       'spVal': 0.388789,\n",
       "       'left': {'spInd': 0,\n",
       "        'spVal': 0.437652,\n",
       "        'left': -4.1911745,\n",
       "        'right': {'spInd': 0,\n",
       "         'spVal': 0.412516,\n",
       "         'left': {'spInd': 0,\n",
       "          'spVal': 0.418943,\n",
       "          'left': {'spInd': 0,\n",
       "           'spVal': 0.426711,\n",
       "           'left': {'spInd': 0,\n",
       "            'spVal': 0.428582,\n",
       "            'left': 19.745224,\n",
       "            'right': 15.224266},\n",
       "           'right': -21.594268},\n",
       "          'right': 44.161493},\n",
       "         'right': {'spInd': 0,\n",
       "          'spVal': 0.403228,\n",
       "          'left': -26.419289,\n",
       "          'right': 0.6359300000000001}}},\n",
       "       'right': 23.197474},\n",
       "      'right': {'spInd': 0,\n",
       "       'spVal': 0.335182,\n",
       "       'left': {'spInd': 0,\n",
       "        'spVal': 0.370042,\n",
       "        'left': {'spInd': 0,\n",
       "         'spVal': 0.378965,\n",
       "         'left': -29.007783,\n",
       "         'right': {'spInd': 0,\n",
       "          'spVal': 0.373501,\n",
       "          'left': {'spInd': 0,\n",
       "           'spVal': 0.377383,\n",
       "           'left': 13.583555,\n",
       "           'right': 5.241196},\n",
       "          'right': -8.228297}},\n",
       "        'right': {'spInd': 0,\n",
       "         'spVal': 0.35679,\n",
       "         'left': -32.124495,\n",
       "         'right': {'spInd': 0,\n",
       "          'spVal': 0.350725,\n",
       "          'left': -9.9938275,\n",
       "          'right': -26.851234812500003}}},\n",
       "       'right': {'spInd': 0,\n",
       "        'spVal': 0.324274,\n",
       "        'left': 22.286959625,\n",
       "        'right': {'spInd': 0,\n",
       "         'spVal': 0.309133,\n",
       "         'left': {'spInd': 0,\n",
       "          'spVal': 0.310956,\n",
       "          'left': -20.3973335,\n",
       "          'right': -49.939516},\n",
       "         'right': {'spInd': 0,\n",
       "          'spVal': 0.131833,\n",
       "          'left': {'spInd': 0,\n",
       "           'spVal': 0.138619,\n",
       "           'left': {'spInd': 0,\n",
       "            'spVal': 0.156067,\n",
       "            'left': {'spInd': 0,\n",
       "             'spVal': 0.166765,\n",
       "             'left': {'spInd': 0,\n",
       "              'spVal': 0.193282,\n",
       "              'left': {'spInd': 0,\n",
       "               'spVal': 0.211633,\n",
       "               'left': {'spInd': 0,\n",
       "                'spVal': 0.228473,\n",
       "                'left': {'spInd': 0,\n",
       "                 'spVal': 0.25807,\n",
       "                 'left': {'spInd': 0,\n",
       "                  'spVal': 0.284794,\n",
       "                  'left': {'spInd': 0,\n",
       "                   'spVal': 0.300318,\n",
       "                   'left': 8.814725,\n",
       "                   'right': {'spInd': 0,\n",
       "                    'spVal': 0.297107,\n",
       "                    'left': -18.051318,\n",
       "                    'right': {'spInd': 0,\n",
       "                     'spVal': 0.295993,\n",
       "                     'left': -1.798377,\n",
       "                     'right': {'spInd': 0,\n",
       "                      'spVal': 0.290749,\n",
       "                      'left': -14.988279,\n",
       "                      'right': -14.391613}}}},\n",
       "                  'right': {'spInd': 0,\n",
       "                   'spVal': 0.273863,\n",
       "                   'left': 35.623746,\n",
       "                   'right': {'spInd': 0,\n",
       "                    'spVal': 0.264926,\n",
       "                    'left': -9.457556,\n",
       "                    'right': {'spInd': 0,\n",
       "                     'spVal': 0.264639,\n",
       "                     'left': 5.280579,\n",
       "                     'right': 2.557923}}}},\n",
       "                 'right': {'spInd': 0,\n",
       "                  'spVal': 0.228628,\n",
       "                  'left': {'spInd': 0,\n",
       "                   'spVal': 0.228751,\n",
       "                   'left': -9.601409499999999,\n",
       "                   'right': -30.812912},\n",
       "                  'right': -2.266273}},\n",
       "                'right': 6.099239},\n",
       "               'right': {'spInd': 0,\n",
       "                'spVal': 0.202161,\n",
       "                'left': -16.42737025,\n",
       "                'right': -2.6781805}},\n",
       "              'right': 9.5773855},\n",
       "             'right': {'spInd': 0,\n",
       "              'spVal': 0.156273,\n",
       "              'left': {'spInd': 0,\n",
       "               'spVal': 0.164134,\n",
       "               'left': {'spInd': 0,\n",
       "                'spVal': 0.166431,\n",
       "                'left': -14.740059,\n",
       "                'right': -6.512506},\n",
       "               'right': -27.405211},\n",
       "              'right': 0.225886}},\n",
       "            'right': {'spInd': 0,\n",
       "             'spVal': 0.13988,\n",
       "             'left': 7.557349,\n",
       "             'right': 7.336784}},\n",
       "           'right': -29.087463},\n",
       "          'right': 22.478291}}}}},\n",
       "     'right': -39.524461},\n",
       "    'right': {'spInd': 0,\n",
       "     'spVal': 0.124723,\n",
       "     'left': 22.891675,\n",
       "     'right': {'spInd': 0,\n",
       "      'spVal': 0.085111,\n",
       "      'left': {'spInd': 0,\n",
       "       'spVal': 0.108801,\n",
       "       'left': 6.196516,\n",
       "       'right': {'spInd': 0,\n",
       "        'spVal': 0.10796,\n",
       "        'left': -16.106164,\n",
       "        'right': {'spInd': 0,\n",
       "         'spVal': 0.085873,\n",
       "         'left': -1.293195,\n",
       "         'right': -10.137104}}},\n",
       "      'right': {'spInd': 0,\n",
       "       'spVal': 0.084661,\n",
       "       'left': 37.820659,\n",
       "       'right': {'spInd': 0,\n",
       "        'spVal': 0.080061,\n",
       "        'left': -24.132226,\n",
       "        'right': {'spInd': 0,\n",
       "         'spVal': 0.068373,\n",
       "         'left': 15.824970500000001,\n",
       "         'right': {'spInd': 0,\n",
       "          'spVal': 0.061219,\n",
       "          'left': -15.160836,\n",
       "          'right': {'spInd': 0,\n",
       "           'spVal': 0.044737,\n",
       "           'left': {'spInd': 0,\n",
       "            'spVal': 0.053764,\n",
       "            'left': {'spInd': 0,\n",
       "             'spVal': 0.055862,\n",
       "             'left': 6.695567,\n",
       "             'right': -3.131497},\n",
       "            'right': -13.731698},\n",
       "           'right': 4.091626}}}}}}}}}}}"
      ]
     },
     "execution_count": 57,
     "metadata": {},
     "output_type": "execute_result"
    }
   ],
   "source": [
    "# test\n",
    "myDat2 = loadDataSet('C:\\\\Users\\\\ms\\\\Desktop\\\\machinelearninginaction\\\\Ch09\\\\ex2.txt')\n",
    "myMat2 = np.mat(myDat2)\n",
    "myTree = createTree(myMat2,ops=(0,1))\n",
    "# 导入测试数据\n",
    "myDatTest = loadDataSet(\"C:\\\\Users\\\\ms\\\\Desktop\\\\machinelearninginaction\\\\Ch09\\\\ex2test.txt\")\n",
    "myMat2Test = np.mat(myDatTest)\n",
    "# 剪枝\n",
    "prune(myTree,myMat2Test)"
   ]
  },
  {
   "cell_type": "markdown",
   "metadata": {},
   "source": [
    "## 模型树  \n",
    "\n",
    "用树来对数据建模，除了把叶节点简单的设定为常数值外，还有一种方法是把叶节点设定为分段线性函数，这里所谓的 **分段线性** 是指模型有多个线性片段组成。  \n",
    "决策树相比于其他机器学习算法的优势之一在于结果更易理解。显然，两条直线比很多节点组成一课大树更容易解释。模型树的可解释性是它优于回归树的特点之一；另外，模型树也具有更高的预测准确度。  \n",
    "**该算法的关键在于误差的计算。**   \n",
    "为找到最佳切分，计算误差的方法：对于给定的数据集，应该先用线性的模型来对它进行拟合，然后计算真实的目标值与模型预测值间的差值。最后将这些差值的平方求和就得到所需的误差。"
   ]
  },
  {
   "cell_type": "code",
   "execution_count": 58,
   "metadata": {},
   "outputs": [],
   "source": [
    "def linearSolve(dataSet):  \n",
    "    \"\"\"\"\n",
    "    将数据集格式化成目标变量Y和自变量X\n",
    "    X和Y用于执行简单的线性回归\n",
    "    \"\"\"\n",
    "    m,n = np.array(dataSet).shape\n",
    "    # 将X和Y中的数据格式化\n",
    "    X = np.mat(np.ones((m,n))); Y = np.mat(np.ones((m,1)))#create a copy of data with 1 in 0th postion and strip out Y\n",
    "    X[:,1:n] = dataSet[:,0:n-1]; Y = dataSet[:,-1]\n",
    "    xTx = X.T*X\n",
    "    if np.linalg.det(xTx) == 0.0:\n",
    "        raise NameError('This matrix is singular, cannot do inverse,\\n\\\n",
    "        try increasing the second value of ops')\n",
    "    ws = xTx.I * (X.T * Y)\n",
    "    return ws,X,Y"
   ]
  },
  {
   "cell_type": "code",
   "execution_count": 59,
   "metadata": {},
   "outputs": [],
   "source": [
    "def modelLeaf(dataSet):#create linear model and return coeficients\n",
    "    \"\"\"\n",
    "    当数据不再需要切分的时候负责生成叶节点的模型\n",
    "    :param dataSet:\n",
    "    :return: 回归系数\n",
    "    \"\"\"\n",
    "    ws,X,Y = linearSolve(dataSet)\n",
    "    return ws"
   ]
  },
  {
   "cell_type": "code",
   "execution_count": 60,
   "metadata": {},
   "outputs": [],
   "source": [
    "def modelErr(dataSet):\n",
    "    \"\"\"\n",
    "    在给定的数据集上计算误差，被ChooseBestSplit()调用找到最佳的切分\n",
    "    :param dataSet:\n",
    "    :return:  yHat和Y之间的平方误差\n",
    "    \"\"\"\n",
    "    ws,X,Y = linearSolve(dataSet)\n",
    "    yHat = X * ws\n",
    "    return np.sum(np.power(Y - yHat,2))"
   ]
  },
  {
   "cell_type": "code",
   "execution_count": 61,
   "metadata": {},
   "outputs": [
    {
     "data": {
      "text/plain": [
       "{'spInd': 0,\n",
       " 'spVal': 0.499171,\n",
       " 'left': {'spInd': 0,\n",
       "  'spVal': 0.729397,\n",
       "  'left': {'spInd': 0,\n",
       "   'spVal': 0.790312,\n",
       "   'left': {'spInd': 0,\n",
       "    'spVal': 0.841547,\n",
       "    'left': {'spInd': 0, 'spVal': 0.910975, 'left': matrix([[-85.38134691],\n",
       "             [195.2916547 ]]), 'right': matrix([[-198.60707966],\n",
       "             [ 335.8875464 ]])},\n",
       "    'right': matrix([[-413.78611049],\n",
       "            [ 618.92243507]])},\n",
       "   'right': matrix([[-358.95313076],\n",
       "           [ 589.03437394]])},\n",
       "  'right': {'spInd': 0,\n",
       "   'spVal': 0.613004,\n",
       "   'left': {'spInd': 0, 'spVal': 0.666452, 'left': matrix([[-37.38215781],\n",
       "            [209.4219232 ]]), 'right': matrix([[-259.91915006],\n",
       "            [ 565.77696463]])},\n",
       "   'right': {'spInd': 0, 'spVal': 0.549814, 'left': matrix([[-212.66006427],\n",
       "            [ 557.78748581]]), 'right': matrix([[ 28.11573016],\n",
       "            [146.92675371]])}}},\n",
       " 'right': {'spInd': 0,\n",
       "  'spVal': 0.382037,\n",
       "  'left': {'spInd': 0, 'spVal': 0.446196, 'left': matrix([[-314.69568607],\n",
       "           [ 670.38523499]]), 'right': matrix([[  88.20131639],\n",
       "           [-195.28602713]])},\n",
       "  'right': {'spInd': 0, 'spVal': 0.335182, 'left': matrix([[-146.85847178],\n",
       "           [ 365.55217094]]), 'right': {'spInd': 0,\n",
       "    'spVal': 0.284794,\n",
       "    'left': matrix([[-203.27036415],\n",
       "            [ 627.01158611]]),\n",
       "    'right': {'spInd': 0,\n",
       "     'spVal': 0.126833,\n",
       "     'left': {'spInd': 0, 'spVal': 0.202161, 'left': matrix([[-63.37511172],\n",
       "              [258.90996368]]), 'right': matrix([[-35.08648537],\n",
       "              [183.86425509]])},\n",
       "     'right': matrix([[-0.44255769],\n",
       "             [38.54356008]])}}}}}"
      ]
     },
     "execution_count": 61,
     "metadata": {},
     "output_type": "execute_result"
    }
   ],
   "source": [
    "# test\n",
    "createTree(myMat2,modelLeaf,modelErr,(1,10))"
   ]
  },
  {
   "cell_type": "code",
   "execution_count": 62,
   "metadata": {},
   "outputs": [
    {
     "data": {
      "image/png": "[encoded data removed]",
      "text/plain": [
       "<Figure size 432x288 with 1 Axes>"
      ]
     },
     "metadata": {},
     "output_type": "display_data"
    }
   ],
   "source": [
    "plt.plot(myMat2[:,0],myMat2[:,1],'ro') \n",
    "plt.show()"
   ]
  },
  {
   "cell_type": "markdown",
   "metadata": {},
   "source": [
    "## 树回归与标准回归的比较"
   ]
  },
  {
   "cell_type": "markdown",
   "metadata": {},
   "source": [
    "首先给出一些函数，它们可以在树构建好的情况下对给定的输入进行预测，之后利用这些函数计算三种回归模型的测试误差。"
   ]
  },
  {
   "cell_type": "code",
   "execution_count": 76,
   "metadata": {},
   "outputs": [],
   "source": [
    "def regTreeEval(model, inDat):\n",
    "    return float(model)"
   ]
  },
  {
   "cell_type": "code",
   "execution_count": 91,
   "metadata": {},
   "outputs": [],
   "source": [
    "def modelTreeEval(model, inDat):\n",
    "    n = np.array(inDat).shape[1]\n",
    "    X = np.mat(np.ones((1,n+1)))\n",
    "    X[:,1:n]=inDat\n",
    "    return float(X*model)"
   ]
  },
  {
   "cell_type": "code",
   "execution_count": 92,
   "metadata": {},
   "outputs": [],
   "source": [
    "def treeForeCast(tree, inData, modelEval=regTreeEval):\n",
    "    if not isTree(tree):\n",
    "        return modelEval(tree, inData)\n",
    "    if inData[tree['spInd']]>tree['spVal']:\n",
    "        if isTree(tree['left']):\n",
    "            return treeForeCast(tree['left'], inData, modelEval)\n",
    "        else:\n",
    "            return modelEval(tree['left'], inData)\n",
    "    else:\n",
    "        if isTree(tree['right']):\n",
    "            return treeForeCast(tree['right'], inData, modelEval)\n",
    "        else:\n",
    "            return modelEval(tree['right'], inData)"
   ]
  },
  {
   "cell_type": "code",
   "execution_count": 93,
   "metadata": {},
   "outputs": [],
   "source": [
    "def createForeCast(tree, testData, modelEval=regTreeEval):\n",
    "    # 以向量形式返回一组预测值\n",
    "    m=len(testData)\n",
    "    yHat = np.mat(np.zeros((m,1)))\n",
    "    for i in range(m):\n",
    "        yHat[i,0] = treeForeCast(tree, np.mat(testData[i]), modelEval)\n",
    "    return yHat"
   ]
  },
  {
   "cell_type": "code",
   "execution_count": 94,
   "metadata": {},
   "outputs": [],
   "source": [
    "# 预测"
   ]
  },
  {
   "cell_type": "code",
   "execution_count": 95,
   "metadata": {},
   "outputs": [
    {
     "data": {
      "text/plain": [
       "0.9578326255876831"
      ]
     },
     "execution_count": 95,
     "metadata": {},
     "output_type": "execute_result"
    }
   ],
   "source": [
    "# 利用数据创建一颗回归树\n",
    "trainMat = np.mat(loadDataSet('C:\\\\Users\\\\ms\\\\Desktop\\\\machinelearninginaction\\\\Ch09\\\\bikeSpeedVsIq_test.txt'))\n",
    "trainMat = np.mat(loadDataSet('C:\\\\Users\\\\ms\\\\Desktop\\\\machinelearninginaction\\\\Ch09\\\\bikeSpeedVsIq_train.txt'))\n",
    "myTree = createTree(trainMat,ops=(1,20))\n",
    "yHat = createForeCast(myTree,testMat[:,0])\n",
    "np.corrcoef(yHat,testMat[:,1],rowvar=0)[0,1]\n"
   ]
  },
  {
   "cell_type": "code",
   "execution_count": 96,
   "metadata": {},
   "outputs": [
    {
     "data": {
      "image/png": "[encoded data removed]",
      "text/plain": [
       "<Figure size 432x288 with 1 Axes>"
      ]
     },
     "metadata": {},
     "output_type": "display_data"
    }
   ],
   "source": [
    "# 可视化数据\n",
    "import matplotlib.pyplot as plt\n",
    "fig=plt.figure()\n",
    "ax=fig.add_subplot(111)\n",
    "ax.scatter(np.array(trainMat)[:,0],np.array(trainMat)[:,1],c='cyan',marker='o')\n",
    "plt.show()"
   ]
  },
  {
   "cell_type": "code",
   "execution_count": 98,
   "metadata": {},
   "outputs": [
    {
     "data": {
      "text/plain": [
       "{'spInd': 0,\n",
       " 'spVal': 4.0,\n",
       " 'left': {'spInd': 0,\n",
       "  'spVal': 12.0,\n",
       "  'left': {'spInd': 0,\n",
       "   'spVal': 16.0,\n",
       "   'left': {'spInd': 0, 'spVal': 20.0, 'left': matrix([[47.58621512],\n",
       "            [ 5.51066299]]), 'right': matrix([[37.54851927],\n",
       "            [ 6.23298637]])},\n",
       "   'right': matrix([[43.41251481],\n",
       "           [ 6.37966738]])},\n",
       "  'right': {'spInd': 0, 'spVal': 9.0, 'left': matrix([[-2.87684083],\n",
       "           [10.20804482]]), 'right': {'spInd': 0,\n",
       "    'spVal': 6.0,\n",
       "    'left': matrix([[-11.84548851],\n",
       "            [ 12.12382261]]),\n",
       "    'right': matrix([[-17.21714265],\n",
       "            [ 13.72153115]])}}},\n",
       " 'right': matrix([[ 68.87014372],\n",
       "         [-11.78556471]])}"
      ]
     },
     "execution_count": 98,
     "metadata": {},
     "output_type": "execute_result"
    }
   ],
   "source": [
    "# 再创建一棵模型树\n",
    "myTree = createTree(trainMat,modelLeaf,modelErr,(1,20))\n",
    "myTree"
   ]
  },
  {
   "cell_type": "code",
   "execution_count": 101,
   "metadata": {},
   "outputs": [
    {
     "data": {
      "text/plain": [
       "0.38638377117105205"
      ]
     },
     "execution_count": 101,
     "metadata": {},
     "output_type": "execute_result"
    }
   ],
   "source": [
    "yHat = createForeCast(myTree,testMat[:,0],modelTreeEval)\n",
    "np.corrcoef(yHat,testMat[:,1],rowvar=0)[0,1]"
   ]
  },
  {
   "cell_type": "code",
   "execution_count": 102,
   "metadata": {},
   "outputs": [
    {
     "data": {
      "text/plain": [
       "matrix([[37.58916794],\n",
       "        [ 6.18978355]])"
      ]
     },
     "execution_count": 102,
     "metadata": {},
     "output_type": "execute_result"
    }
   ],
   "source": [
    "ws,X,Y = linearSolve(trainMat)\n",
    "ws"
   ]
  },
  {
   "cell_type": "markdown",
   "metadata": {},
   "source": [
    "为得到测试集上所有的yHat预测值，在测试集上循环进行："
   ]
  },
  {
   "cell_type": "code",
   "execution_count": 103,
   "metadata": {},
   "outputs": [],
   "source": [
    "for i in range(testMat.shape[0]):\n",
    "    yHat[i] = testMat[i,0] * ws[1,0]+ws[0,0]"
   ]
  },
  {
   "cell_type": "code",
   "execution_count": 104,
   "metadata": {},
   "outputs": [
    {
     "data": {
      "text/plain": [
       "0.9393087674724667"
      ]
     },
     "execution_count": 104,
     "metadata": {},
     "output_type": "execute_result"
    }
   ],
   "source": [
    "np.corrcoef(yHat,testMat[:,1],rowvar=0)[0,1]"
   ]
  },
  {
   "cell_type": "markdown",
   "metadata": {},
   "source": [
    "树回归在预测复杂数据时比简单的线性模型更有效"
   ]
  },
  {
   "cell_type": "code",
   "execution_count": null,
   "metadata": {},
   "outputs": [],
   "source": []
  }
 ],
 "metadata": {
  "kernelspec": {
   "display_name": "Python 3",
   "language": "python",
   "name": "python3"
  },
  "language_info": {
   "codemirror_mode": {
    "name": "ipython",
    "version": 3
   },
   "file_extension": ".py",
   "mimetype": "text/x-python",
   "name": "python",
   "nbconvert_exporter": "python",
   "pygments_lexer": "ipython3",
   "version": "3.6.5"
  }
 },
 "nbformat": 4,
 "nbformat_minor": 2
}
