{
 "cells": [
  {
   "cell_type": "markdown",
   "metadata": {},
   "source": [
    "# ID3算法实现过程"
   ]
  },
  {
   "cell_type": "code",
   "execution_count": 1,
   "metadata": {},
   "outputs": [],
   "source": [
    "import pandas as pd \n",
    "import numpy as np\n",
    "import math"
   ]
  },
  {
   "cell_type": "markdown",
   "metadata": {},
   "source": [
    "### 创建数据集"
   ]
  },
  {
   "cell_type": "code",
   "execution_count": 2,
   "metadata": {},
   "outputs": [],
   "source": [
    "def createDataSet():\n",
    "    data = pd.read_excel(\"C:\\\\Users\\\\ms\\\\Desktop\\\\dataSet.xlsx\",sheet_name=\"Sheet1\" )\n",
    "    # 删除多余没有优化的列\n",
    "    data = data.drop('ID',axis=1)\n",
    "    #标签\n",
    "    labels = list(data.columns)\n",
    "    #数据集\n",
    "    dataSet = data.values\n",
    "    return dataSet, labels"
   ]
  },
  {
   "cell_type": "code",
   "execution_count": 3,
   "metadata": {},
   "outputs": [],
   "source": [
    "dataSet, labels = createDataSet()"
   ]
  },
  {
   "cell_type": "code",
   "execution_count": 6,
   "metadata": {},
   "outputs": [
    {
     "name": "stdout",
     "output_type": "stream",
     "text": [
      "[['青年' '否' '否' '一般' '否']\n",
      " ['青年' '否' '否' '好' '否']\n",
      " ['青年' '是' '否' '好' '是']\n",
      " ['青年' '是' '是' '一般' '是']\n",
      " ['青年' '否' '否' '一般' '否']\n",
      " ['中年' '否' '否' '一般' '否']\n",
      " ['中年' '否' '否' '好' '否']\n",
      " ['中年' '是' '是' '好' '是']\n",
      " ['中年' '否' '是' '非常好' '是']\n",
      " ['中年' '否' '是' '非常好' '是']\n",
      " ['老年' '否' '是' '非常好' '是']\n",
      " ['老年' '否' '是' '好' '是']\n",
      " ['老年' '是' '否' '好' '是']\n",
      " ['老年' '是' '否' '非常好' '是']\n",
      " ['老年' '否' '否' '一般' '否']]\n",
      "------------------------------\n",
      "['年龄', '工作', '房子', '信贷情况', '类别']\n"
     ]
    }
   ],
   "source": [
    "print(dataSet)\n",
    "print('------------------------------')\n",
    "print(labels)"
   ]
  },
  {
   "cell_type": "markdown",
   "metadata": {},
   "source": [
    "### 根据特征分割数据集"
   ]
  },
  {
   "cell_type": "code",
   "execution_count": 7,
   "metadata": {},
   "outputs": [],
   "source": [
    "def splitDataSet(dataSet,axis,value):\n",
    "    \"\"\"\n",
    "    按照给定特征划分数据集\n",
    "    :param axis:划分数据集的特征的维度\n",
    "    :param value:特征的值\n",
    "    :return: 符合该特征的所有实例（并且自动移除掉这维特征）\n",
    "    \"\"\"\n",
    "\n",
    "    # 循环遍历dataSet中的每一行数据\n",
    "    retDataSet = []\n",
    "    for featVec in dataSet:\n",
    "        if featVec[axis] == value:\n",
    "            reduceFeatVec = list(featVec[:axis]) # 删除这一维值为value的特征\n",
    "            reduceFeatVec.extend(featVec[axis+1:])\n",
    "            retDataSet.append(reduceFeatVec)\n",
    "    return retDataSet"
   ]
  },
  {
   "cell_type": "code",
   "execution_count": 8,
   "metadata": {},
   "outputs": [
    {
     "data": {
      "text/plain": [
       "[['否', '否', '一般', '否'],\n",
       " ['否', '否', '好', '否'],\n",
       " ['是', '否', '好', '是'],\n",
       " ['是', '是', '一般', '是'],\n",
       " ['否', '否', '一般', '否']]"
      ]
     },
     "execution_count": 8,
     "metadata": {},
     "output_type": "execute_result"
    }
   ],
   "source": [
    "#测试\n",
    "splitDataSet(dataSet,0,'青年')"
   ]
  },
  {
   "cell_type": "markdown",
   "metadata": {},
   "source": [
    "### 计算信息熵"
   ]
  },
  {
   "cell_type": "code",
   "execution_count": 9,
   "metadata": {},
   "outputs": [],
   "source": [
    "# 计算的始终是类别标签的不确定度\n",
    "def calcShannonEnt(dataSet):\n",
    "    numEntries = len(dataSet)    #数据集的大小\n",
    "    labelCounts = {}\n",
    "    for featVec in dataSet:\n",
    "        currentLabel = featVec[-1]    # 类别标签在最后一列\n",
    "        # 映射成字典： {'否': 6, '是': 9}\n",
    "        if currentLabel not in labelCounts.keys():\n",
    "            labelCounts[currentLabel] = 1\n",
    "        else:\n",
    "            labelCounts[currentLabel] += 1\n",
    "    shannonEnt = 0.0\n",
    "    # 计算熵\n",
    "    for key in labelCounts:\n",
    "        prob = float(labelCounts[key]) / numEntries\n",
    "        shannonEnt = shannonEnt - prob * math.log(prob,2)\n",
    "    return shannonEnt"
   ]
  },
  {
   "cell_type": "code",
   "execution_count": 10,
   "metadata": {},
   "outputs": [
    {
     "data": {
      "text/plain": [
       "0.9709505944546686"
      ]
     },
     "execution_count": 10,
     "metadata": {},
     "output_type": "execute_result"
    }
   ],
   "source": [
    "#测试\n",
    "calcShannonEnt(dataSet)"
   ]
  },
  {
   "cell_type": "markdown",
   "metadata": {},
   "source": [
    "### 计算条件熵\n",
    "\n"
   ]
  },
  {
   "cell_type": "code",
   "execution_count": 11,
   "metadata": {},
   "outputs": [],
   "source": [
    "def calcConditionalEnt(dataSet,i,uniqueVals):\n",
    "    \n",
    "    \"\"\"\n",
    "    计算x_i给定的条件下，Y的条件熵\n",
    "    :param dataSet: 数据集\n",
    "    :param i: 维度i\n",
    "    :param unqiueVals: 数据集特征集合\n",
    "    :return: 条件熵  \n",
    "    \"\"\"\n",
    "    ce = 0.0\n",
    "    for val in uniqueVals:\n",
    "        subDataSet = splitDataSet(dataSet,i,val)\n",
    "        # 极大似然估计概率\n",
    "        prob = len(subDataSet) / float(len(dataSet))\n",
    "        #∑pH(Y|X=xi) 条件熵的计算 \n",
    "        ce = ce + prob * calcShannonEnt(subDataSet)\n",
    "    return ce"
   ]
  },
  {
   "cell_type": "code",
   "execution_count": 12,
   "metadata": {},
   "outputs": [
    {
     "data": {
      "text/plain": [
       "0.5509775004326937"
      ]
     },
     "execution_count": 12,
     "metadata": {},
     "output_type": "execute_result"
    }
   ],
   "source": [
    "# 测试\n",
    "calcConditionalEnt(dataSet,2,uniqueVals=['是','否'])"
   ]
  },
  {
   "cell_type": "markdown",
   "metadata": {},
   "source": [
    "### 计算信息增益"
   ]
  },
  {
   "cell_type": "code",
   "execution_count": 13,
   "metadata": {},
   "outputs": [],
   "source": [
    "def calcGain(dataSet,i):\n",
    "    \"\"\"\n",
    "    计算信息增益\n",
    "    :param dataSet: 数据集\n",
    "    :param baseEntropy: 数据集中Y的信息熵\n",
    "    :param i: 特征维度i\n",
    "    :return: 特征i对数据集的信息增益g(dataSet | X_i)\n",
    "    \"\"\"\n",
    "    featList = [example[i] for example in dataSet] # 第i维特征列表\n",
    "    uniqueVals = set(featList) # 换成集合 - 集合中的每个元素不重复\n",
    "    newEntropy = calcConditionalEnt(dataSet,i,uniqueVals)\n",
    "    baseEntropy = calcShannonEnt(dataSet)\n",
    "    inforGain = baseEntropy - newEntropy # 信息增益\n",
    "    return inforGain"
   ]
  },
  {
   "cell_type": "code",
   "execution_count": 14,
   "metadata": {},
   "outputs": [
    {
     "name": "stdout",
     "output_type": "stream",
     "text": [
      "0.08300749985576883\n",
      "0.32365019815155627\n",
      "0.4199730940219749\n",
      "0.36298956253708536\n"
     ]
    }
   ],
   "source": [
    "# 测试\n",
    "for i in range(len(labels)-1):\n",
    "    print(calcGain(dataSet,i))"
   ]
  },
  {
   "cell_type": "markdown",
   "metadata": {},
   "source": [
    "## 算法骨架"
   ]
  },
  {
   "cell_type": "code",
   "execution_count": 15,
   "metadata": {},
   "outputs": [],
   "source": [
    "def chooseBestFeatureToSplitByID3(dataSet):\n",
    "    \"\"\"\n",
    "    选择最好的数据集划分\n",
    "    :param dataSet:\n",
    "    :return:\n",
    "    \"\"\"\n",
    "    numFeatures = len(dataSet[0]) -1 # 最后一列是分类\n",
    "    bestInfoGain = 0.0\n",
    "    bestFeature = -1\n",
    "    for i in range(numFeatures): # 遍历所有维度特征\n",
    "        infoGain = calcGain(dataSet,i)\n",
    "        if infoGain > bestInfoGain :\n",
    "            bestInfoGain = infoGain\n",
    "            bestFeature = i\n",
    "    return bestFeature # 返回最佳特征对应的维度\n",
    "\n",
    "\n",
    "def majorityCnt(classList):\n",
    "    \"\"\"\n",
    "    这个函数的作用是返回字典中出现次数最多的value对应的key，也就是输入list中出现最多的那个值\n",
    "    return: 类别列表中多数的类，即多数表决\n",
    "    \"\"\"\n",
    "    classCount={}\n",
    "    for vote in classList:\n",
    "        if vote not in classCount.keys(): classCount[vote] = 0\n",
    "        classCount[vote] += 1\n",
    "    # 字典按照value排序 \n",
    "    sortedClassCount = sorted(classCount.iteritems(), key=operator.itemgetter(1), reverse=True)\n",
    " \n",
    "    return sortedClassCount[0][0]\n",
    "\n",
    "\n",
    "def createTree(dataSet,labels,chooseBestFeatureToSplitFunc = chooseBestFeatureToSplitByID3):\n",
    "    \"\"\"\n",
    "    创建决策树\n",
    "    :param dataSet: 数据集\n",
    "    :param labels: 数据集每一维的名称\n",
    "    :return: 决策树\n",
    "    \"\"\"\n",
    "    classList = [example[-1] for example in dataSet] # 类别列表\n",
    "    if classList.count(classList[0]) == len(classList): # 统计属于列别classList[0]的个数\n",
    "        return classList[0] # 当类别完全相同则停止继续划分\n",
    "    if len(dataSet[0]) ==1: # 当只有一个特征的时候，遍历所有实例返回出现次数最多的类别\n",
    "        return majorityCnt(classList) # 返回类别标签\n",
    "    bestFeat = chooseBestFeatureToSplitFunc(dataSet)\n",
    "    bestFeatLabel = labels[bestFeat]\n",
    "    myTree ={bestFeatLabel:{}}  # map 结构，且key为featureLabel\n",
    "    del (labels[bestFeat])\n",
    "    # 找到需要分类的特征子集\n",
    "    featValues = [example[bestFeat] for example in dataSet]\n",
    "    uniqueVals = set(featValues)\n",
    "    for value in uniqueVals:\n",
    "        subLabels = labels[:] # 复制操作\n",
    "        myTree[bestFeatLabel][value] = createTree(splitDataSet(dataSet,bestFeat,value),subLabels)\n",
    "    return myTree\n"
   ]
  },
  {
   "cell_type": "code",
   "execution_count": 16,
   "metadata": {},
   "outputs": [
    {
     "data": {
      "text/plain": [
       "{'房子': {'是': '是', '否': {'工作': {'是': '是', '否': '否'}}}}"
      ]
     },
     "execution_count": 16,
     "metadata": {},
     "output_type": "execute_result"
    }
   ],
   "source": [
    "# 测试决策树的构建\n",
    "myTree = createTree(dataSet,labels)\n",
    "myTree"
   ]
  },
  {
   "cell_type": "markdown",
   "metadata": {},
   "source": [
    "## 可视化ID3决策树"
   ]
  },
  {
   "cell_type": "code",
   "execution_count": 17,
   "metadata": {},
   "outputs": [],
   "source": [
    "import matplotlib.pyplot as plt\n",
    "\n",
    "'''\n",
    "绘制决策树的函数\n",
    "'''\n",
    "\n",
    "# 定义文本框和箭头格式\n",
    "decisionNode = dict(boxstyle=\"round4\", color='#3366FF')  #定义判断结点形态\n",
    "leafNode = dict(boxstyle=\"circle\", color='#FF6633')  #定义叶结点形态\n",
    "arrow_args = dict(arrowstyle=\"<-\", color='g')  #定义箭头\n",
    "\n",
    "#绘制带箭头的注释\n",
    "def plotNode(nodeTxt, centerPt, parentPt, nodeType):\n",
    "    createPlot.ax1.annotate(nodeTxt, xy=parentPt, xycoords='axes fraction',\n",
    "                            xytext=centerPt, textcoords='axes fraction',\n",
    "                            va=\"center\", ha=\"center\", bbox=nodeType, arrowprops=arrow_args)\n",
    "\n",
    "\n",
    "#计算叶结点数\n",
    "def getNumLeafs(myTree):\n",
    "    numLeafs = 0\n",
    "    firstStr = list(myTree.keys())[0]    # 'dict_keys' object does not support indexing\n",
    "    secondDict = myTree[firstStr]\n",
    "    for key in secondDict.keys():\n",
    "        #测试节点的数据是否为字典，以此判断是否为叶节点\n",
    "        if type(secondDict[key]).__name__ == 'dict':\n",
    "            numLeafs += getNumLeafs(secondDict[key])\n",
    "        else:\n",
    "            numLeafs += 1\n",
    "    return numLeafs\n",
    "\n",
    "\n",
    "#计算树的最大深度(层数)\n",
    "def getTreeDepth(myTree):\n",
    "    maxDepth = 0\n",
    "    firstStr = list(myTree.keys())[0]   # 'dict_keys' object does not support indexing\n",
    "    secondDict = myTree[firstStr]\n",
    "    for key in secondDict.keys():\n",
    "        #测试节点的数据是否为字典，以此判断是否为叶节点\n",
    "        if type(secondDict[key]).__name__ == 'dict':\n",
    "            thisDepth = 1 + getTreeDepth(secondDict[key])\n",
    "        else:\n",
    "            thisDepth = 1\n",
    "        if thisDepth > maxDepth:\n",
    "            maxDepth = thisDepth\n",
    "    return maxDepth\n",
    "\n",
    "\n",
    "#在父子结点间填充文本信息\n",
    "#标签头上的文字\n",
    "def plotMidText(cntrPt, parentPt, txtString):\n",
    "    xMid = (parentPt[0] - cntrPt[0]) / 2.0 + cntrPt[0]\n",
    "    yMid = (parentPt[1] - cntrPt[1]) / 2.0 + cntrPt[1]\n",
    "    createPlot.ax1.text(xMid, yMid, txtString, va=\"center\", ha=\"center\", rotation=30)\n",
    "\n",
    "\n",
    "def plotTree(myTree, parentPt, nodeTxt):\n",
    "    numLeafs = getNumLeafs(myTree)\n",
    "    depth = getTreeDepth(myTree)\n",
    "    firstStr = list(myTree.keys())[0]\n",
    "    cntrPt = (plotTree.xOff + (1.0 + float(numLeafs)) / 2.0 / plotTree.totalW, plotTree.yOff)\n",
    "    plotMidText(cntrPt, parentPt, nodeTxt)  #在父子结点间填充文本信息\n",
    "    plotNode(firstStr, cntrPt, parentPt, decisionNode)  #绘制带箭头的注释\n",
    "    secondDict = myTree[firstStr]\n",
    "    plotTree.yOff = plotTree.yOff - 1.0 / plotTree.totalD\n",
    "    for key in secondDict.keys():\n",
    "        if type(secondDict[key]).__name__ == 'dict':\n",
    "            plotTree(secondDict[key], cntrPt, str(key))\n",
    "        else:\n",
    "            plotTree.xOff = plotTree.xOff + 1.0 / plotTree.totalW\n",
    "            plotNode(secondDict[key], (plotTree.xOff, plotTree.yOff), cntrPt, leafNode)\n",
    "            plotMidText((plotTree.xOff, plotTree.yOff), cntrPt, str(key))\n",
    "    plotTree.yOff = plotTree.yOff + 1.0 / plotTree.totalD\n",
    "\n",
    "\n",
    "def createPlot(inTree):\n",
    "    fig = plt.figure(1, facecolor='white')\n",
    "    fig.clf()\n",
    "    axprops = dict(xticks=[], yticks=[])\n",
    "    createPlot.ax1 = plt.subplot(111, frameon=False, **axprops)\n",
    "    plotTree.totalW = float(getNumLeafs(inTree))\n",
    "    plotTree.totalD = float(getTreeDepth(inTree))\n",
    "    plotTree.xOff = -0.5 / plotTree.totalW;\n",
    "    plotTree.yOff = 1.0;\n",
    "    plotTree(inTree, (0.5, 1.0), '')\n",
    "    plt.show()"
   ]
  },
  {
   "cell_type": "code",
   "execution_count": 18,
   "metadata": {},
   "outputs": [
    {
     "data": {
      "image/png": "[encoded data removed]",
      "text/plain": [
       "<Figure size 432x288 with 1 Axes>"
      ]
     },
     "metadata": {},
     "output_type": "display_data"
    }
   ],
   "source": [
    "plt.rcParams['font.sans-serif'] = ['SimHei']  # 指定默认字体\n",
    "plt.rcParams['axes.unicode_minus'] = False  # 解决保存图像时负号'-'显示为方块的问题\n",
    "##################################\n",
    "\n",
    "# 绘制决策树\n",
    "createPlot(myTree)"
   ]
  },
  {
   "cell_type": "code",
   "execution_count": null,
   "metadata": {},
   "outputs": [],
   "source": []
  }
 ],
 "metadata": {
  "kernelspec": {
   "display_name": "Python 3",
   "language": "python",
   "name": "python3"
  },
  "language_info": {
   "codemirror_mode": {
    "name": "ipython",
    "version": 3
   },
   "file_extension": ".py",
   "mimetype": "text/x-python",
   "name": "python",
   "nbconvert_exporter": "python",
   "pygments_lexer": "ipython3",
   "version": "3.6.5"
  }
 },
 "nbformat": 4,
 "nbformat_minor": 2
}
